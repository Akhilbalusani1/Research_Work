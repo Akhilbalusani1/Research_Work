{
 "cells": [
  {
   "cell_type": "markdown",
   "id": "b97f542a-07c4-4d37-aeee-dd0098f9c2b6",
   "metadata": {},
   "source": [
    "### DATA PREPROCESSING"
   ]
  },
  {
   "cell_type": "markdown",
   "id": "175f7337-7a1b-4334-b334-7253fb148987",
   "metadata": {},
   "source": [
    "##### Step 1: Load the Dataset"
   ]
  },
  {
   "cell_type": "code",
   "execution_count": 3,
   "id": "ebf63581-21e2-4c2c-a6bf-ec564e9d7726",
   "metadata": {},
   "outputs": [
    {
     "name": "stdout",
     "output_type": "stream",
     "text": [
      "<class 'pandas.core.frame.DataFrame'>\n",
      "RangeIndex: 307645 entries, 0 to 307644\n",
      "Data columns (total 9 columns):\n",
      " #   Column            Non-Null Count   Dtype  \n",
      "---  ------            --------------   -----  \n",
      " 0   YEAR              307645 non-null  int64  \n",
      " 1   MONTH             307645 non-null  int64  \n",
      " 2   SUPPLIER          307478 non-null  object \n",
      " 3   ITEM CODE         307645 non-null  object \n",
      " 4   ITEM DESCRIPTION  307645 non-null  object \n",
      " 5   ITEM TYPE         307644 non-null  object \n",
      " 6   RETAIL SALES      307642 non-null  float64\n",
      " 7   RETAIL TRANSFERS  307645 non-null  float64\n",
      " 8   WAREHOUSE SALES   307645 non-null  float64\n",
      "dtypes: float64(3), int64(2), object(4)\n",
      "memory usage: 21.1+ MB\n"
     ]
    }
   ],
   "source": [
    "import pandas as pd\n",
    "\n",
    "# Load the dataset\n",
    "file_path = \"Warehouse_and_Retail_Sales.csv\"\n",
    "df = pd.read_csv(file_path)\n",
    "\n",
    "# Create a duplicate to prevent modifying the original dataset\n",
    "df_clean = df.copy()\n",
    "\n",
    "# Display basic info\n",
    "df_clean.info()"
   ]
  },
  {
   "cell_type": "markdown",
   "id": "0d099633-d76b-41b0-8069-a738a84a3129",
   "metadata": {},
   "source": [
    "##### Step 2: Handle Missing Values"
   ]
  },
  {
   "cell_type": "code",
   "execution_count": 4,
   "id": "3ec71698-fc1b-41bf-a20e-5c6c96e955a3",
   "metadata": {},
   "outputs": [
    {
     "name": "stdout",
     "output_type": "stream",
     "text": [
      "Skewness of RETAIL SALES: 19.42179429944015\n"
     ]
    },
    {
     "name": "stderr",
     "output_type": "stream",
     "text": [
      "C:\\Users\\akhil\\AppData\\Local\\Temp\\ipykernel_25268\\3980699745.py:2: FutureWarning: A value is trying to be set on a copy of a DataFrame or Series through chained assignment using an inplace method.\n",
      "The behavior will change in pandas 3.0. This inplace method will never work because the intermediate object on which we are setting values always behaves as a copy.\n",
      "\n",
      "For example, when doing 'df[col].method(value, inplace=True)', try using 'df.method({col: value}, inplace=True)' or df[col] = df[col].method(value) instead, to perform the operation inplace on the original object.\n",
      "\n",
      "\n",
      "  df_clean[\"SUPPLIER\"].fillna(df_clean[\"SUPPLIER\"].mode()[0], inplace=True)\n",
      "C:\\Users\\akhil\\AppData\\Local\\Temp\\ipykernel_25268\\3980699745.py:3: FutureWarning: A value is trying to be set on a copy of a DataFrame or Series through chained assignment using an inplace method.\n",
      "The behavior will change in pandas 3.0. This inplace method will never work because the intermediate object on which we are setting values always behaves as a copy.\n",
      "\n",
      "For example, when doing 'df[col].method(value, inplace=True)', try using 'df.method({col: value}, inplace=True)' or df[col] = df[col].method(value) instead, to perform the operation inplace on the original object.\n",
      "\n",
      "\n",
      "  df_clean[\"ITEM TYPE\"].fillna(df_clean[\"ITEM TYPE\"].mode()[0], inplace=True)\n",
      "C:\\Users\\akhil\\AppData\\Local\\Temp\\ipykernel_25268\\3980699745.py:10: FutureWarning: A value is trying to be set on a copy of a DataFrame or Series through chained assignment using an inplace method.\n",
      "The behavior will change in pandas 3.0. This inplace method will never work because the intermediate object on which we are setting values always behaves as a copy.\n",
      "\n",
      "For example, when doing 'df[col].method(value, inplace=True)', try using 'df.method({col: value}, inplace=True)' or df[col] = df[col].method(value) instead, to perform the operation inplace on the original object.\n",
      "\n",
      "\n",
      "  df_clean[\"RETAIL SALES\"].fillna(df_clean[\"RETAIL SALES\"].median(), inplace=True)\n"
     ]
    }
   ],
   "source": [
    "# Fill missing categorical values with mode (most frequent value)\n",
    "df_clean[\"SUPPLIER\"].fillna(df_clean[\"SUPPLIER\"].mode()[0], inplace=True)\n",
    "df_clean[\"ITEM TYPE\"].fillna(df_clean[\"ITEM TYPE\"].mode()[0], inplace=True)\n",
    "\n",
    "# Check skewness of RETAIL SALES to decide mean or median imputation\n",
    "retail_sales_skewness = df_clean[\"RETAIL SALES\"].skew()\n",
    "print(f\"Skewness of RETAIL SALES: {retail_sales_skewness}\")\n",
    "\n",
    "# Fill missing numerical values with median (since RETAIL SALES is highly skewed)\n",
    "df_clean[\"RETAIL SALES\"].fillna(df_clean[\"RETAIL SALES\"].median(), inplace=True)"
   ]
  },
  {
   "cell_type": "code",
   "execution_count": 5,
   "id": "4e378968-045b-4e62-a196-2a2ff0851fb8",
   "metadata": {},
   "outputs": [
    {
     "name": "stdout",
     "output_type": "stream",
     "text": [
      "YEAR                0\n",
      "MONTH               0\n",
      "SUPPLIER            0\n",
      "ITEM CODE           0\n",
      "ITEM DESCRIPTION    0\n",
      "ITEM TYPE           0\n",
      "RETAIL SALES        0\n",
      "RETAIL TRANSFERS    0\n",
      "WAREHOUSE SALES     0\n",
      "dtype: int64\n"
     ]
    }
   ],
   "source": [
    "null_values = df_clean.isnull().sum()\n",
    "print(null_values)"
   ]
  },
  {
   "cell_type": "markdown",
   "id": "0555baaa-b97a-441c-bbd3-ba5fdee7b070",
   "metadata": {},
   "source": [
    "##### Step 3: Remove Duplicates"
   ]
  },
  {
   "cell_type": "code",
   "execution_count": 6,
   "id": "a626983c-8d71-4dbb-bb73-e0b369677dd0",
   "metadata": {},
   "outputs": [
    {
     "name": "stdout",
     "output_type": "stream",
     "text": [
      "Duplicates found: 0\n"
     ]
    }
   ],
   "source": [
    "# Check for duplicates\n",
    "duplicate_count = df_clean.duplicated().sum()\n",
    "print(f\"Duplicates found: {duplicate_count}\")\n",
    "\n",
    "# Remove duplicates\n",
    "df_clean.drop_duplicates(inplace=True)"
   ]
  },
  {
   "cell_type": "markdown",
   "id": "f852a9a9-7c4d-4f37-879c-5c3fd7362db9",
   "metadata": {},
   "source": [
    "##### Step 4: Handle Outliers (Using Winsorization)"
   ]
  },
  {
   "cell_type": "code",
   "execution_count": 7,
   "id": "c1265484-33db-4d22-8a6e-b5d8bd22068f",
   "metadata": {},
   "outputs": [],
   "source": [
    "from scipy.stats.mstats import winsorize\n",
    "\n",
    "# Apply Winsorization (capping extreme values at 1st and 99th percentiles)\n",
    "df_clean[\"RETAIL SALES\"] = winsorize(df_clean[\"RETAIL SALES\"], limits=[0.01, 0.01])\n",
    "df_clean[\"RETAIL TRANSFERS\"] = winsorize(df_clean[\"RETAIL TRANSFERS\"], limits=[0.01, 0.01])\n",
    "df_clean[\"WAREHOUSE SALES\"] = winsorize(df_clean[\"WAREHOUSE SALES\"], limits=[0.01, 0.01])"
   ]
  },
  {
   "cell_type": "markdown",
   "id": "3e5ba5ac-3825-4c51-a81a-26e0f941a1c6",
   "metadata": {},
   "source": [
    "##### Step 5: Encode Categorical Features"
   ]
  },
  {
   "cell_type": "code",
   "execution_count": 8,
   "id": "cd0339f4-71a3-4d74-8b2e-0281585bc712",
   "metadata": {},
   "outputs": [],
   "source": [
    "# One-hot encoding for ITEM TYPE\n",
    "df_clean = pd.get_dummies(df_clean, columns=[\"ITEM TYPE\"], prefix=\"ITEM_TYPE\")\n",
    "\n",
    "# Frequency encoding for SUPPLIER\n",
    "supplier_counts = df_clean[\"SUPPLIER\"].value_counts()\n",
    "df_clean[\"SUPPLIER\"] = df_clean[\"SUPPLIER\"].map(supplier_counts)"
   ]
  },
  {
   "cell_type": "markdown",
   "id": "ae25c8aa-f03e-4a6a-86ea-4896092ad988",
   "metadata": {},
   "source": [
    "##### Step 6: Normalize Numerical Features (Min-Max Scaling)"
   ]
  },
  {
   "cell_type": "code",
   "execution_count": 9,
   "id": "c98592ff-a08d-4d57-bcfa-972e3d8ee125",
   "metadata": {},
   "outputs": [],
   "source": [
    "from sklearn.preprocessing import MinMaxScaler\n",
    "\n",
    "# Initialize scaler\n",
    "scaler = MinMaxScaler()\n",
    "\n",
    "# Scale numerical columns\n",
    "num_cols = [\"RETAIL SALES\", \"RETAIL TRANSFERS\", \"WAREHOUSE SALES\"]\n",
    "df_clean[num_cols] = scaler.fit_transform(df_clean[num_cols])"
   ]
  },
  {
   "cell_type": "markdown",
   "id": "3f436a88-bfaf-4ec2-879f-c693079f7caa",
   "metadata": {},
   "source": [
    "##### Step 7: Save the Preprocessed Dataset"
   ]
  },
  {
   "cell_type": "code",
   "execution_count": 10,
   "id": "f9472dc0-ed1f-402a-b788-ccc7fe29c1f2",
   "metadata": {},
   "outputs": [
    {
     "name": "stdout",
     "output_type": "stream",
     "text": [
      "Preprocessed dataset saved at: Warehouse_and_Retail_Sales_Cleaned.csv\n"
     ]
    }
   ],
   "source": [
    "# Save the cleaned dataset for research use\n",
    "processed_file_path = \"Warehouse_and_Retail_Sales_Cleaned.csv\"\n",
    "df_clean.to_csv(processed_file_path, index=False)\n",
    "\n",
    "print(f\"Preprocessed dataset saved at: {processed_file_path}\")"
   ]
  },
  {
   "cell_type": "code",
   "execution_count": 11,
   "id": "409d7610-28cb-4c4f-a10f-03fae1bb06e4",
   "metadata": {},
   "outputs": [
    {
     "name": "stdout",
     "output_type": "stream",
     "text": [
      "Number of rows: 307645\n"
     ]
    }
   ],
   "source": [
    "new_df = pd.read_csv(\"Warehouse_and_Retail_Sales_Cleaned.csv\")\n",
    "num_rows = len(new_df)\n",
    "print(f\"Number of rows: {num_rows}\")"
   ]
  },
  {
   "cell_type": "markdown",
   "id": "2983862e-a4c7-40cd-b737-e62cfc1059eb",
   "metadata": {},
   "source": [
    "### Feature Engineering Implementation"
   ]
  },
  {
   "cell_type": "markdown",
   "id": "871bcc8c-9c93-44b0-b313-d0ae71a0ec05",
   "metadata": {},
   "source": [
    "#### 📌 Steps in Feature Engineering\n",
    "##### Create Date-Based Features (Yearly, Monthly trends, Seasonality)\n",
    "\n",
    "##### Integrate External Factors (Weather, Social Media, Economic Indicators)\n",
    "\n",
    "##### Lag Features (Past sales to predict future demand)\n",
    "\n",
    "##### Rolling Statistics (Moving averages, standard deviations)\n",
    "\n",
    "##### Feature Selection (Keep only the most important features)"
   ]
  },
  {
   "cell_type": "markdown",
   "id": "e6203c64-5258-4aeb-b8a5-92b0547735a6",
   "metadata": {},
   "source": [
    "#### 1️⃣ Create Date-Based Features"
   ]
  },
  {
   "cell_type": "code",
   "execution_count": 12,
   "id": "4f827a85-46e5-4e0b-971b-ade1898e8af9",
   "metadata": {},
   "outputs": [],
   "source": [
    "# Convert YEAR & MONTH into a datetime column\n",
    "df_clean[\"DATE\"] = pd.to_datetime(df_clean[\"YEAR\"].astype(str) + \"-\" + df_clean[\"MONTH\"].astype(str) + \"-01\")\n",
    "\n",
    "# Extract useful features\n",
    "df_clean[\"YEAR\"] = df_clean[\"DATE\"].dt.year\n",
    "df_clean[\"MONTH\"] = df_clean[\"DATE\"].dt.month\n",
    "df_clean[\"DAY_OF_YEAR\"] = df_clean[\"DATE\"].dt.dayofyear\n",
    "df_clean[\"QUARTER\"] = df_clean[\"DATE\"].dt.quarter\n",
    "df_clean[\"WEEK_OF_YEAR\"] = df_clean[\"DATE\"].dt.isocalendar().week\n",
    "df_clean[\"DAY_OF_WEEK\"] = df_clean[\"DATE\"].dt.dayofweek"
   ]
  },
  {
   "cell_type": "markdown",
   "id": "5dbff8a7-ac7c-4567-9a3c-37b51faac576",
   "metadata": {},
   "source": [
    "#### 2️⃣ Integrate External Factors (Sentiment, Weather, Economic Data)"
   ]
  },
  {
   "cell_type": "code",
   "execution_count": 13,
   "id": "668dc939-abd7-4b63-ac07-e688357f0d96",
   "metadata": {},
   "outputs": [
    {
     "name": "stdout",
     "output_type": "stream",
     "text": [
      "Enhanced dataset saved to: Warehouse_and_Retail_Sales_Enhanced.csv\n"
     ]
    }
   ],
   "source": [
    "import pandas as pd\n",
    "import numpy as np\n",
    "\n",
    "# Load the cleaned dataset\n",
    "file_path = \"Warehouse_and_Retail_Sales_Cleaned.csv\"\n",
    "df = pd.read_csv(file_path)\n",
    "\n",
    "# Convert YEAR & MONTH into a datetime column (if not already done)\n",
    "df[\"DATE\"] = pd.to_datetime(df[\"YEAR\"].astype(str) + \"-\" + df[\"MONTH\"].astype(str) + \"-01\")\n",
    "\n",
    "# 🔹 Generate Synthetic Weather Data\n",
    "np.random.seed(42)  # Ensuring reproducibility\n",
    "\n",
    "# Assign temperatures based on the month (seasonal trends)\n",
    "temperature_map = {\n",
    "    1: np.random.normal(10, 3),  # January (Winter)\n",
    "    2: np.random.normal(12, 3),  \n",
    "    3: np.random.normal(15, 3),  \n",
    "    4: np.random.normal(20, 3),  # April (Spring)\n",
    "    5: np.random.normal(25, 3),  \n",
    "    6: np.random.normal(30, 3),  # June (Summer)\n",
    "    7: np.random.normal(32, 3),  \n",
    "    8: np.random.normal(30, 3),  \n",
    "    9: np.random.normal(28, 3),  \n",
    "    10: np.random.normal(22, 3), # October (Fall)\n",
    "    11: np.random.normal(15, 3), \n",
    "    12: np.random.normal(10, 3)  # December (Winter)\n",
    "}\n",
    "\n",
    "df[\"temperature\"] = df[\"MONTH\"].map(temperature_map) + np.random.normal(0, 2, len(df))\n",
    "df[\"humidity\"] = 70 - (df[\"temperature\"] - 20) * 1.5 + np.random.normal(0, 5, len(df))  # Simulated humidity\n",
    "\n",
    "df[\"weather_condition\"] = np.select(\n",
    "    [df[\"temperature\"] < 15, df[\"temperature\"] < 25, df[\"temperature\"] >= 25],\n",
    "    [\"Cold\", \"Mild\", \"Hot\"],\n",
    "    default=\"Mild\"  # Ensure a default value to prevent dtype mismatch\n",
    ")\n",
    "\n",
    "# 🔹 Generate Synthetic Social Media Sentiment Data\n",
    "df[\"sentiment_score\"] = np.random.uniform(-0.5, 0.8, len(df))  # Simulating sentiment between -0.5 and +0.8\n",
    "\n",
    "# Save the updated dataset\n",
    "output_path = \"Warehouse_and_Retail_Sales_Enhanced.csv\"\n",
    "df.to_csv(output_path, index=False)\n",
    "\n",
    "print(f\"Enhanced dataset saved to: {output_path}\")"
   ]
  },
  {
   "cell_type": "code",
   "execution_count": 14,
   "id": "4e8e7e58-06dc-4559-acc5-25a8cf6e712c",
   "metadata": {},
   "outputs": [
    {
     "name": "stdout",
     "output_type": "stream",
     "text": [
      "temperature          0\n",
      "humidity             0\n",
      "weather_condition    0\n",
      "sentiment_score      0\n",
      "dtype: int64\n"
     ]
    }
   ],
   "source": [
    "# Check if any missing values exist\n",
    "print(df[[\"temperature\", \"humidity\", \"weather_condition\", \"sentiment_score\"]].isnull().sum())"
   ]
  },
  {
   "cell_type": "markdown",
   "id": "51d1245c-b844-4082-83a7-f1fc0ec29743",
   "metadata": {},
   "source": [
    "#### 📌 Step 1: Feature Selection for CNN-LSTM-XGBoost Model"
   ]
  },
  {
   "cell_type": "markdown",
   "id": "fb93e8d2-f0cb-4678-bdc7-ee6468a5a9fc",
   "metadata": {},
   "source": [
    "##### 🔹 Feature Selection Methods\n",
    "##### We'll use three approaches to identify the most relevant features:\n",
    "##### 1️⃣ Correlation Matrix (Heatmap) → Removes highly correlated features.\n",
    "##### 2️⃣ XGBoost Feature Importance → Uses tree-based ranking.\n",
    "##### 3️⃣ SHAP (Shapley Additive Explanations) → Measures the impact of each feature on predictions."
   ]
  },
  {
   "cell_type": "code",
   "execution_count": 15,
   "id": "217822ed-309b-49e6-9386-d0afda2aa077",
   "metadata": {},
   "outputs": [
    {
     "name": "stdout",
     "output_type": "stream",
     "text": [
      "Categorical Columns: ['ITEM CODE', 'ITEM DESCRIPTION', 'DATE', 'weather_condition']\n"
     ]
    },
    {
     "data": {
      "image/png": "[encoded data removed]",
      "text/plain": [
       "<Figure size 1200x800 with 2 Axes>"
      ]
     },
     "metadata": {},
     "output_type": "display_data"
    }
   ],
   "source": [
    "import pandas as pd\n",
    "import matplotlib.pyplot as plt\n",
    "import seaborn as sns\n",
    "\n",
    "# Load dataset\n",
    "file_path = \"Warehouse_and_Retail_Sales_Enhanced.csv\"\n",
    "df = pd.read_csv(file_path)\n",
    "\n",
    "# 🔹 1️⃣ Convert categorical columns to numeric if necessary\n",
    "# Identify categorical columns\n",
    "categorical_cols = df.select_dtypes(include=[\"object\"]).columns.tolist()\n",
    "print(\"Categorical Columns:\", categorical_cols)  # Debugging step\n",
    "\n",
    "# Drop categorical columns (since they can't be correlated directly)\n",
    "df_numeric = df.drop(columns=categorical_cols)\n",
    "\n",
    "# 🔹 2️⃣ Correlation Matrix (Only for Numeric Columns)\n",
    "plt.figure(figsize=(12, 8))\n",
    "sns.heatmap(df_numeric.corr(), annot=True, fmt=\".2f\", cmap=\"coolwarm\", linewidths=0.5)\n",
    "plt.title(\"Feature Correlation Heatmap\")\n",
    "plt.show()"
   ]
  },
  {
   "cell_type": "markdown",
   "id": "9181bfcb-1944-4bc6-8793-dd38699fb8b7",
   "metadata": {},
   "source": [
    "##### 📌 Step 2: Feature Importance using XGBoost"
   ]
  },
  {
   "cell_type": "code",
   "execution_count": 16,
   "id": "40634bcc-0926-487d-a093-175d5c411833",
   "metadata": {},
   "outputs": [
    {
     "name": "stdout",
     "output_type": "stream",
     "text": [
      "Index(['YEAR', 'MONTH', 'SUPPLIER', 'RETAIL SALES', 'RETAIL TRANSFERS',\n",
      "       'WAREHOUSE SALES', 'ITEM_TYPE_BEER', 'ITEM_TYPE_DUNNAGE',\n",
      "       'ITEM_TYPE_KEGS', 'ITEM_TYPE_LIQUOR', 'ITEM_TYPE_NON-ALCOHOL',\n",
      "       'ITEM_TYPE_REF', 'ITEM_TYPE_STR_SUPPLIES', 'ITEM_TYPE_WINE',\n",
      "       'temperature', 'humidity', 'sentiment_score'],\n",
      "      dtype='object')\n"
     ]
    }
   ],
   "source": [
    "print(df_numeric.columns)"
   ]
  },
  {
   "cell_type": "code",
   "execution_count": 17,
   "id": "72a1f218-08c3-443b-b0e8-365ac9fadb86",
   "metadata": {},
   "outputs": [
    {
     "data": {
      "text/plain": [
       "<Figure size 1000x600 with 0 Axes>"
      ]
     },
     "metadata": {},
     "output_type": "display_data"
    },
    {
     "data": {
      "image/png": "[encoded data removed]",
      "text/plain": [
       "<Figure size 640x480 with 1 Axes>"
      ]
     },
     "metadata": {},
     "output_type": "display_data"
    }
   ],
   "source": [
    "import xgboost as xgb\n",
    "import matplotlib.pyplot as plt\n",
    "\n",
    "# Define input (X) and target (y)\n",
    "X = df_numeric.drop(columns=[\"RETAIL SALES\"])  # Drop target variable\n",
    "y = df_numeric[\"RETAIL SALES\"]\n",
    "\n",
    "# Train an XGBoost model to rank feature importance\n",
    "xgb_model = xgb.XGBRegressor(objective=\"reg:squarederror\", random_state=42)\n",
    "xgb_model.fit(X, y)\n",
    "\n",
    "# Plot feature importance\n",
    "plt.figure(figsize=(10, 6))\n",
    "xgb.plot_importance(xgb_model, importance_type=\"weight\", max_num_features=10)\n",
    "plt.title(\"Top 10 Important Features (XGBoost)\")\n",
    "plt.show()"
   ]
  },
  {
   "cell_type": "code",
   "execution_count": 18,
   "id": "1a757882-858b-4002-bc28-dd3a28c0ba63",
   "metadata": {},
   "outputs": [
    {
     "name": "stdout",
     "output_type": "stream",
     "text": [
      "YEAR                        int64\n",
      "MONTH                       int64\n",
      "SUPPLIER                    int64\n",
      "ITEM CODE                  object\n",
      "ITEM DESCRIPTION           object\n",
      "RETAIL SALES              float64\n",
      "RETAIL TRANSFERS          float64\n",
      "WAREHOUSE SALES           float64\n",
      "ITEM_TYPE_BEER               bool\n",
      "ITEM_TYPE_DUNNAGE            bool\n",
      "ITEM_TYPE_KEGS               bool\n",
      "ITEM_TYPE_LIQUOR             bool\n",
      "ITEM_TYPE_NON-ALCOHOL        bool\n",
      "ITEM_TYPE_REF                bool\n",
      "ITEM_TYPE_STR_SUPPLIES       bool\n",
      "ITEM_TYPE_WINE               bool\n",
      "DATE                       object\n",
      "temperature               float64\n",
      "humidity                  float64\n",
      "weather_condition          object\n",
      "sentiment_score           float64\n",
      "dtype: object\n"
     ]
    }
   ],
   "source": [
    "print(df.dtypes)"
   ]
  },
  {
   "cell_type": "code",
   "execution_count": 19,
   "id": "44b24c88-323b-4423-a1e4-fa31ccbb1b9f",
   "metadata": {},
   "outputs": [
    {
     "name": "stdout",
     "output_type": "stream",
     "text": [
      "YEAR                        int64\n",
      "MONTH                       int64\n",
      "SUPPLIER                    int64\n",
      "RETAIL TRANSFERS          float64\n",
      "WAREHOUSE SALES           float64\n",
      "ITEM_TYPE_BEER               bool\n",
      "ITEM_TYPE_DUNNAGE            bool\n",
      "ITEM_TYPE_KEGS               bool\n",
      "ITEM_TYPE_LIQUOR             bool\n",
      "ITEM_TYPE_NON-ALCOHOL        bool\n",
      "ITEM_TYPE_REF                bool\n",
      "ITEM_TYPE_STR_SUPPLIES       bool\n",
      "ITEM_TYPE_WINE               bool\n",
      "temperature               float64\n",
      "humidity                  float64\n",
      "sentiment_score           float64\n",
      "dtype: object\n"
     ]
    }
   ],
   "source": [
    "print(X.dtypes)"
   ]
  },
  {
   "cell_type": "markdown",
   "id": "33a35140-7763-4cd7-8ae2-bc8dee912339",
   "metadata": {},
   "source": [
    "##### 🔹 Step 1: Drop Unnecessary Columns\n",
    "##### If ITEM CODE and ITEM DESCRIPTION are not needed for the model, drop them:"
   ]
  },
  {
   "cell_type": "markdown",
   "id": "71518d1a-783f-4474-a4b6-56b1e4a7cf69",
   "metadata": {},
   "source": [
    "##### Step 2: Convert DATE to Numerical Features\n",
    "##### Extract useful features like year, month, day, weekday:"
   ]
  },
  {
   "cell_type": "code",
   "execution_count": null,
   "id": "d3d8e69a-ef13-4c71-9f01-3bbb77a40bee",
   "metadata": {},
   "outputs": [],
   "source": [
    "X['DATE'] = pd.to_datetime(X['DATE'])\n",
    "X['DAY'] = X['DATE'].dt.day\n",
    "X['WEEKDAY'] = X['DATE'].dt.weekday\n",
    "X = X.drop(columns=['DATE'])  # Remove original date column"
   ]
  },
  {
   "cell_type": "markdown",
   "id": "b8434090-14de-4d55-a68b-67ca89b6a100",
   "metadata": {},
   "source": [
    "##### 🔹 Step 3: Encode weather_condition (Categorical)\n",
    "##### Use Label Encoding:"
   ]
  },
  {
   "cell_type": "code",
   "execution_count": null,
   "id": "2cc685e0-141f-4d79-bb6c-53aa80be7a22",
   "metadata": {},
   "outputs": [],
   "source": [
    "from sklearn.preprocessing import LabelEncoder\n",
    "\n",
    "encoder = LabelEncoder()\n",
    "X['weather_condition'] = encoder.fit_transform(X['weather_condition'])"
   ]
  },
  {
   "cell_type": "markdown",
   "id": "fe2aaef7-2bc1-4766-a6dc-1bd9acb206a6",
   "metadata": {},
   "source": [
    "##### Step 4: Ensure All Columns Are Numeric\n",
    "##### Convert everything to float:"
   ]
  },
  {
   "cell_type": "code",
   "execution_count": null,
   "id": "e02f0f9f-971d-4994-b66e-64268b38f9ce",
   "metadata": {},
   "outputs": [],
   "source": [
    "X = X.astype(float)"
   ]
  },
  {
   "cell_type": "code",
   "execution_count": 1,
   "id": "3a982411-3408-41ac-8cdf-4032e72d6aca",
   "metadata": {},
   "outputs": [
    {
     "name": "stdout",
     "output_type": "stream",
     "text": [
      "Model training completed successfully!\n"
     ]
    }
   ],
   "source": [
    "import pandas as pd\n",
    "import xgboost as xgb\n",
    "from sklearn.model_selection import train_test_split\n",
    "from sklearn.preprocessing import LabelEncoder\n",
    "\n",
    "# Load dataset\n",
    "df = pd.read_csv(\"Warehouse_and_Retail_Sales_Enhanced.csv\")\n",
    "\n",
    "# Convert 'DATE' column to datetime\n",
    "df['DATE'] = pd.to_datetime(df['DATE'])\n",
    "df['YEAR'] = df['DATE'].dt.year\n",
    "df['MONTH'] = df['DATE'].dt.month\n",
    "df['DAY'] = df['DATE'].dt.day\n",
    "\n",
    "# Drop the original DATE column\n",
    "df.drop(columns=['DATE'], inplace=True)\n",
    "\n",
    "# Encode categorical features\n",
    "categorical_cols = ['ITEM CODE', 'ITEM DESCRIPTION', 'weather_condition']\n",
    "label_encoders = {}\n",
    "for col in categorical_cols:\n",
    "    le = LabelEncoder()\n",
    "    df[col] = le.fit_transform(df[col])\n",
    "    label_encoders[col] = le  # Store encoders if needed later\n",
    "\n",
    "# Define features and target\n",
    "X = df.drop(columns=['RETAIL SALES'])  # Features\n",
    "y = df['RETAIL SALES']  # Target\n",
    "\n",
    "# Split data\n",
    "X_train, X_test, y_train, y_test = train_test_split(X, y, test_size=0.2, random_state=42)\n",
    "\n",
    "# XGBoost parameters\n",
    "xgb_params = {\n",
    "    'n_estimators': 500,\n",
    "    'learning_rate': 0.05,\n",
    "    'max_depth': 6,\n",
    "    'subsample': 0.8,\n",
    "    'colsample_bytree': 0.8,\n",
    "    'objective': 'reg:squarederror',\n",
    "    'random_state': 42\n",
    "}\n",
    "\n",
    "# Train XGBoost model\n",
    "model = xgb.XGBRegressor(**xgb_params)\n",
    "model.fit(X_train, y_train)\n",
    "\n",
    "# Predictions\n",
    "y_train_pred = model.predict(X_train)\n",
    "y_test_pred = model.predict(X_test)\n",
    "\n",
    "print(\"Model training completed successfully!\")\n"
   ]
  },
  {
   "cell_type": "code",
   "execution_count": 24,
   "id": "87a01b3f-78c1-4607-8888-364347352745",
   "metadata": {},
   "outputs": [
    {
     "name": "stdout",
     "output_type": "stream",
     "text": [
      "Model Performance Metrics:\n",
      "Mean Absolute Error (MAE): 0.0124\n",
      "Mean Squared Error (MSE): 0.0010\n",
      "Root Mean Squared Error (RMSE): 0.0318\n",
      "R² Score: 0.9550\n"
     ]
    }
   ],
   "source": [
    "from sklearn.metrics import mean_absolute_error, mean_squared_error, r2_score\n",
    "import numpy as np\n",
    "\n",
    "# Compute performance metrics\n",
    "mae = mean_absolute_error(y_test, y_test_pred)\n",
    "mse = mean_squared_error(y_test, y_test_pred)\n",
    "rmse = np.sqrt(mse)\n",
    "r2 = r2_score(y_test, y_test_pred)\n",
    "\n",
    "# Print results\n",
    "print(\"Model Performance Metrics:\")\n",
    "print(f\"Mean Absolute Error (MAE): {mae:.4f}\")\n",
    "print(f\"Mean Squared Error (MSE): {mse:.4f}\")\n",
    "print(f\"Root Mean Squared Error (RMSE): {rmse:.4f}\")\n",
    "print(f\"R² Score: {r2:.4f}\")"
   ]
  },
  {
   "cell_type": "code",
   "execution_count": 4,
   "id": "0c351b24-2faf-486f-b87a-d48e2a4f1e4c",
   "metadata": {},
   "outputs": [],
   "source": [
    "import pandas as pd\n",
    "from sklearn.preprocessing import StandardScaler, LabelEncoder\n",
    "\n",
    "# Load Data\n",
    "df = pd.read_csv(\"Warehouse_and_Retail_Sales_Enhanced.csv\")\n",
    "\n",
    "# Convert DATE to datetime and sort\n",
    "df['DATE'] = pd.to_datetime(df['DATE'])\n",
    "df = df.sort_values(by='DATE')\n",
    "\n",
    "# Drop unnecessary columns\n",
    "df.drop(['ITEM CODE', 'ITEM DESCRIPTION', 'DATE'], axis=1, inplace=True)\n",
    "\n",
    "# Identify categorical columns\n",
    "categorical_cols = df.select_dtypes(include=['object']).columns\n",
    "\n",
    "# Apply Label Encoding to categorical columns\n",
    "label_encoders = {}\n",
    "for col in categorical_cols:\n",
    "    le = LabelEncoder()\n",
    "    df[col] = le.fit_transform(df[col])\n",
    "    label_encoders[col] = le  # Store the encoder for future reference\n",
    "\n",
    "# Normalize Data\n",
    "scaler = StandardScaler()\n",
    "df_scaled = scaler.fit_transform(df)\n",
    "\n",
    "# Convert back to DataFrame (optional, for visualization)\n",
    "df_scaled = pd.DataFrame(df_scaled, columns=df.columns)"
   ]
  },
  {
   "cell_type": "code",
   "execution_count": 6,
   "id": "3a1d7e95-bfe8-4569-bea8-17d15a065c16",
   "metadata": {},
   "outputs": [
    {
     "name": "stdout",
     "output_type": "stream",
     "text": [
      "YEAR                        int64\n",
      "MONTH                       int64\n",
      "SUPPLIER                    int64\n",
      "RETAIL SALES              float64\n",
      "RETAIL TRANSFERS          float64\n",
      "WAREHOUSE SALES           float64\n",
      "ITEM_TYPE_BEER               bool\n",
      "ITEM_TYPE_DUNNAGE            bool\n",
      "ITEM_TYPE_KEGS               bool\n",
      "ITEM_TYPE_LIQUOR             bool\n",
      "ITEM_TYPE_NON-ALCOHOL        bool\n",
      "ITEM_TYPE_REF                bool\n",
      "ITEM_TYPE_STR_SUPPLIES       bool\n",
      "ITEM_TYPE_WINE               bool\n",
      "temperature               float64\n",
      "humidity                  float64\n",
      "weather_condition          object\n",
      "sentiment_score           float64\n",
      "dtype: object\n"
     ]
    }
   ],
   "source": [
    "print(df.dtypes)"
   ]
  },
  {
   "cell_type": "code",
   "execution_count": 10,
   "id": "94a9b3ab-1d6c-4758-9b2f-0d75e58a1bf1",
   "metadata": {},
   "outputs": [
    {
     "name": "stdout",
     "output_type": "stream",
     "text": [
      "Index(['YEAR', 'MONTH', 'SUPPLIER', 'RETAIL SALES', 'RETAIL TRANSFERS',\n",
      "       'WAREHOUSE SALES', 'ITEM_TYPE_BEER', 'ITEM_TYPE_DUNNAGE',\n",
      "       'ITEM_TYPE_KEGS', 'ITEM_TYPE_LIQUOR', 'ITEM_TYPE_NON-ALCOHOL',\n",
      "       'ITEM_TYPE_REF', 'ITEM_TYPE_STR_SUPPLIES', 'ITEM_TYPE_WINE',\n",
      "       'temperature', 'humidity', 'sentiment_score', 'weather_condition_Cold',\n",
      "       'weather_condition_Hot', 'weather_condition_Mild'],\n",
      "      dtype='object')\n"
     ]
    }
   ],
   "source": [
    "print(df.columns)"
   ]
  },
  {
   "cell_type": "code",
   "execution_count": 7,
   "id": "a1a4a5e1-ce3d-465d-a1ac-dc27cc6813c7",
   "metadata": {},
   "outputs": [],
   "source": [
    "df = pd.get_dummies(df, columns=['weather_condition'])"
   ]
  },
  {
   "cell_type": "code",
   "execution_count": 11,
   "id": "aa57c16e-eba5-465f-99dd-c55aa45bfbae",
   "metadata": {},
   "outputs": [],
   "source": [
    "from sklearn.preprocessing import StandardScaler\n",
    "\n",
    "# Select only numeric columns\n",
    "numeric_columns = df.select_dtypes(include=['number']).columns\n",
    "df_scaled = StandardScaler().fit_transform(df[numeric_columns])"
   ]
  },
  {
   "cell_type": "code",
   "execution_count": 13,
   "id": "1fa70e9f-1b14-4c5f-ad65-38240fae400b",
   "metadata": {},
   "outputs": [
    {
     "name": "stdout",
     "output_type": "stream",
     "text": [
      "Categorical Columns: Index(['weather_condition'], dtype='object')\n"
     ]
    }
   ],
   "source": [
    "import pandas as pd\n",
    "from sklearn.preprocessing import StandardScaler\n",
    "\n",
    "# Load Data\n",
    "df = pd.read_csv(\"Warehouse_and_Retail_Sales_Enhanced.csv\")\n",
    "\n",
    "# Convert DATE to datetime and sort\n",
    "df['DATE'] = pd.to_datetime(df['DATE'])\n",
    "df = df.sort_values(by='DATE')\n",
    "\n",
    "# Drop unnecessary columns\n",
    "df.drop(['ITEM CODE', 'ITEM DESCRIPTION', 'DATE'], axis=1, inplace=True)\n",
    "\n",
    "# Identify categorical columns\n",
    "categorical_columns = df.select_dtypes(include=['object']).columns\n",
    "print(\"Categorical Columns:\", categorical_columns)\n",
    "\n",
    "# One-Hot Encode categorical columns\n",
    "df = pd.get_dummies(df, columns=categorical_columns)\n",
    "\n",
    "# Normalize only numeric columns\n",
    "scaler = StandardScaler()\n",
    "df_scaled = scaler.fit_transform(df)\n",
    "\n",
    "# Convert back to DataFrame (optional)\n",
    "df_scaled = pd.DataFrame(df_scaled, columns=df.columns)\n"
   ]
  },
  {
   "cell_type": "code",
   "execution_count": 15,
   "id": "fbc4e73f-f49f-4b12-a0e8-170eafa0a245",
   "metadata": {},
   "outputs": [
    {
     "name": "stdout",
     "output_type": "stream",
     "text": [
      "Categorical Columns Before Encoding: Index(['weather_condition'], dtype='object')\n",
      "Data Types After Encoding:\n",
      " YEAR                        int64\n",
      "MONTH                       int64\n",
      "SUPPLIER                    int64\n",
      "RETAIL SALES              float64\n",
      "RETAIL TRANSFERS          float64\n",
      "WAREHOUSE SALES           float64\n",
      "ITEM_TYPE_BEER               bool\n",
      "ITEM_TYPE_DUNNAGE            bool\n",
      "ITEM_TYPE_KEGS               bool\n",
      "ITEM_TYPE_LIQUOR             bool\n",
      "ITEM_TYPE_NON-ALCOHOL        bool\n",
      "ITEM_TYPE_REF                bool\n",
      "ITEM_TYPE_STR_SUPPLIES       bool\n",
      "ITEM_TYPE_WINE               bool\n",
      "temperature               float64\n",
      "humidity                  float64\n",
      "sentiment_score           float64\n",
      "weather_condition_Cold       bool\n",
      "weather_condition_Hot        bool\n",
      "weather_condition_Mild       bool\n",
      "dtype: object\n"
     ]
    }
   ],
   "source": [
    "import pandas as pd\n",
    "from sklearn.preprocessing import StandardScaler\n",
    "\n",
    "# Load Data\n",
    "df = pd.read_csv(\"Warehouse_and_Retail_Sales_Enhanced.csv\")\n",
    "\n",
    "# Convert DATE to datetime and sort\n",
    "df['DATE'] = pd.to_datetime(df['DATE'])\n",
    "df = df.sort_values(by='DATE')\n",
    "\n",
    "# Drop unnecessary columns\n",
    "df.drop(['ITEM CODE', 'ITEM DESCRIPTION', 'DATE'], axis=1, inplace=True)\n",
    "\n",
    "# Identify categorical columns\n",
    "categorical_columns = df.select_dtypes(include=['object']).columns\n",
    "print(\"Categorical Columns Before Encoding:\", categorical_columns)\n",
    "\n",
    "# One-Hot Encode categorical columns\n",
    "df = pd.get_dummies(df, columns=categorical_columns)\n",
    "\n",
    "# Check column types after encoding\n",
    "print(\"Data Types After Encoding:\\n\", df.dtypes)\n",
    "\n",
    "# Verify no object (string) types remain\n",
    "if df.select_dtypes(include=['object']).shape[1] > 0:\n",
    "    raise ValueError(\"Non-numeric columns still exist after encoding!\")\n",
    "\n",
    "# Normalize only numeric columns\n",
    "scaler = StandardScaler()\n",
    "df_scaled = scaler.fit_transform(df)\n",
    "\n",
    "# Convert back to DataFrame (optional)\n",
    "df_scaled = pd.DataFrame(df_scaled, columns=df.columns)"
   ]
  },
  {
   "cell_type": "code",
   "execution_count": 16,
   "id": "bbfc54d4-ec1d-4aa3-8fdf-354995505435",
   "metadata": {},
   "outputs": [],
   "source": [
    "# Convert boolean columns to integer (0/1)\n",
    "df = df.astype(int)\n",
    "\n",
    "# Now apply StandardScaler\n",
    "scaler = StandardScaler()\n",
    "df_scaled = scaler.fit_transform(df)"
   ]
  },
  {
   "cell_type": "code",
   "execution_count": 18,
   "id": "2b510007-a568-4fe1-a1c4-713213434c45",
   "metadata": {},
   "outputs": [
    {
     "name": "stdout",
     "output_type": "stream",
     "text": [
      "Categorical Columns Before Encoding: Index(['weather_condition'], dtype='object')\n"
     ]
    }
   ],
   "source": [
    "# Load and preprocess data\n",
    "df = pd.read_csv(\"Warehouse_and_Retail_Sales_Enhanced.csv\")\n",
    "\n",
    "# Convert DATE column to datetime and sort\n",
    "df['DATE'] = pd.to_datetime(df['DATE'])\n",
    "df = df.sort_values(by='DATE')\n",
    "\n",
    "# Drop unnecessary columns\n",
    "df.drop(['ITEM CODE', 'ITEM DESCRIPTION', 'DATE'], axis=1, inplace=True)\n",
    "\n",
    "# Identify categorical columns (non-numeric)\n",
    "categorical_cols = df.select_dtypes(include=['object']).columns\n",
    "print(\"Categorical Columns Before Encoding:\", categorical_cols)\n",
    "\n",
    "# One-hot encode categorical columns\n",
    "df = pd.get_dummies(df, columns=categorical_cols, drop_first=True)  # Avoid dummy variable trap\n",
    "\n",
    "# Convert boolean columns to integer (0 and 1)\n",
    "df = df.astype(int)\n",
    "\n",
    "# Normalize data\n",
    "scaler = StandardScaler()\n",
    "df_scaled = scaler.fit_transform(df)\n",
    "\n",
    "# Define input features and target\n",
    "X = df_scaled[:, :-1]\n",
    "y = df_scaled[:, -1]\n",
    "\n",
    "# Reshape for LSTM (samples, timesteps, features)\n",
    "X_lstm = X.reshape(X.shape[0], 1, X.shape[1])\n"
   ]
  },
  {
   "cell_type": "code",
   "execution_count": 23,
   "id": "dce7702b-bd13-4ede-8fd8-bf8c5ac93e27",
   "metadata": {},
   "outputs": [
    {
     "name": "stdout",
     "output_type": "stream",
     "text": [
      "Copy of the dataset has been created successfully.\n"
     ]
    }
   ],
   "source": [
    "import pandas as pd\n",
    "\n",
    "# Load the dataset\n",
    "df = pd.read_csv(\"Warehouse_and_Retail_Sales_Enhanced.csv\")\n",
    "\n",
    "# Create a copy of the dataset\n",
    "df_copy = df.copy()\n",
    "\n",
    "# Save the copied dataset\n",
    "df_copy.to_csv(\"Warehouse_and_Retail_Sales_Enhanced_Copy.csv\", index=False)\n",
    "\n",
    "print(\"Copy of the dataset has been created successfully.\")\n"
   ]
  },
  {
   "cell_type": "code",
   "execution_count": 27,
   "id": "9075a026-4ef5-459d-a7de-4a064f6411bf",
   "metadata": {},
   "outputs": [
    {
     "name": "stdout",
     "output_type": "stream",
     "text": [
      "Epoch 1/20\n",
      "\u001b[1m15383/15383\u001b[0m \u001b[32m━━━━━━━━━━━━━━━━━━━━\u001b[0m\u001b[37m\u001b[0m \u001b[1m204s\u001b[0m 13ms/step - loss: 0.1023 - val_loss: 0.0726\n",
      "Epoch 2/20\n",
      "\u001b[1m15383/15383\u001b[0m \u001b[32m━━━━━━━━━━━━━━━━━━━━\u001b[0m\u001b[37m\u001b[0m \u001b[1m236s\u001b[0m 15ms/step - loss: 0.0661 - val_loss: 0.0606\n",
      "Epoch 3/20\n",
      "\u001b[1m15383/15383\u001b[0m \u001b[32m━━━━━━━━━━━━━━━━━━━━\u001b[0m\u001b[37m\u001b[0m \u001b[1m226s\u001b[0m 15ms/step - loss: 0.0675 - val_loss: 0.0652\n",
      "Epoch 4/20\n",
      "\u001b[1m15383/15383\u001b[0m \u001b[32m━━━━━━━━━━━━━━━━━━━━\u001b[0m\u001b[37m\u001b[0m \u001b[1m233s\u001b[0m 15ms/step - loss: 0.0665 - val_loss: 0.0598\n",
      "Epoch 5/20\n",
      "\u001b[1m15383/15383\u001b[0m \u001b[32m━━━━━━━━━━━━━━━━━━━━\u001b[0m\u001b[37m\u001b[0m \u001b[1m230s\u001b[0m 15ms/step - loss: 0.0628 - val_loss: 0.0633\n",
      "Epoch 6/20\n",
      "\u001b[1m15383/15383\u001b[0m \u001b[32m━━━━━━━━━━━━━━━━━━━━\u001b[0m\u001b[37m\u001b[0m \u001b[1m231s\u001b[0m 15ms/step - loss: 0.0644 - val_loss: 0.0602\n",
      "Epoch 7/20\n",
      "\u001b[1m15383/15383\u001b[0m \u001b[32m━━━━━━━━━━━━━━━━━━━━\u001b[0m\u001b[37m\u001b[0m \u001b[1m208s\u001b[0m 13ms/step - loss: 0.0634 - val_loss: 0.0613\n",
      "Epoch 8/20\n",
      "\u001b[1m15383/15383\u001b[0m \u001b[32m━━━━━━━━━━━━━━━━━━━━\u001b[0m\u001b[37m\u001b[0m \u001b[1m266s\u001b[0m 14ms/step - loss: 0.0637 - val_loss: 0.0608\n",
      "Epoch 9/20\n",
      "\u001b[1m15383/15383\u001b[0m \u001b[32m━━━━━━━━━━━━━━━━━━━━\u001b[0m\u001b[37m\u001b[0m \u001b[1m278s\u001b[0m 15ms/step - loss: 0.0644 - val_loss: 0.0589\n",
      "Epoch 10/20\n",
      "\u001b[1m15383/15383\u001b[0m \u001b[32m━━━━━━━━━━━━━━━━━━━━\u001b[0m\u001b[37m\u001b[0m \u001b[1m222s\u001b[0m 14ms/step - loss: 0.0622 - val_loss: 0.0674\n",
      "Epoch 11/20\n",
      "\u001b[1m15383/15383\u001b[0m \u001b[32m━━━━━━━━━━━━━━━━━━━━\u001b[0m\u001b[37m\u001b[0m \u001b[1m213s\u001b[0m 14ms/step - loss: 0.0644 - val_loss: 0.0620\n",
      "Epoch 12/20\n",
      "\u001b[1m15383/15383\u001b[0m \u001b[32m━━━━━━━━━━━━━━━━━━━━\u001b[0m\u001b[37m\u001b[0m \u001b[1m278s\u001b[0m 15ms/step - loss: 0.0621 - val_loss: 0.0584\n",
      "Epoch 13/20\n",
      "\u001b[1m15383/15383\u001b[0m \u001b[32m━━━━━━━━━━━━━━━━━━━━\u001b[0m\u001b[37m\u001b[0m \u001b[1m227s\u001b[0m 15ms/step - loss: 0.0616 - val_loss: 0.0582\n",
      "Epoch 14/20\n",
      "\u001b[1m15383/15383\u001b[0m \u001b[32m━━━━━━━━━━━━━━━━━━━━\u001b[0m\u001b[37m\u001b[0m \u001b[1m223s\u001b[0m 14ms/step - loss: 0.0631 - val_loss: 0.0578\n",
      "Epoch 15/20\n",
      "\u001b[1m15383/15383\u001b[0m \u001b[32m━━━━━━━━━━━━━━━━━━━━\u001b[0m\u001b[37m\u001b[0m \u001b[1m228s\u001b[0m 15ms/step - loss: 0.0614 - val_loss: 0.0575\n",
      "Epoch 16/20\n",
      "\u001b[1m15383/15383\u001b[0m \u001b[32m━━━━━━━━━━━━━━━━━━━━\u001b[0m\u001b[37m\u001b[0m \u001b[1m201s\u001b[0m 13ms/step - loss: 0.0630 - val_loss: 0.0583\n",
      "Epoch 17/20\n",
      "\u001b[1m15383/15383\u001b[0m \u001b[32m━━━━━━━━━━━━━━━━━━━━\u001b[0m\u001b[37m\u001b[0m \u001b[1m181s\u001b[0m 12ms/step - loss: 0.0613 - val_loss: 0.0574\n",
      "Epoch 18/20\n",
      "\u001b[1m15383/15383\u001b[0m \u001b[32m━━━━━━━━━━━━━━━━━━━━\u001b[0m\u001b[37m\u001b[0m \u001b[1m156s\u001b[0m 10ms/step - loss: 0.0626 - val_loss: 0.0596\n",
      "Epoch 19/20\n",
      "\u001b[1m15383/15383\u001b[0m \u001b[32m━━━━━━━━━━━━━━━━━━━━\u001b[0m\u001b[37m\u001b[0m \u001b[1m160s\u001b[0m 10ms/step - loss: 0.0631 - val_loss: 0.0600\n",
      "Epoch 20/20\n",
      "\u001b[1m15383/15383\u001b[0m \u001b[32m━━━━━━━━━━━━━━━━━━━━\u001b[0m\u001b[37m\u001b[0m \u001b[1m158s\u001b[0m 10ms/step - loss: 0.0633 - val_loss: 0.0581\n",
      "\u001b[1m7692/7692\u001b[0m \u001b[32m━━━━━━━━━━━━━━━━━━━━\u001b[0m\u001b[37m\u001b[0m \u001b[1m37s\u001b[0m 5ms/step\n",
      "\u001b[1m1923/1923\u001b[0m \u001b[32m━━━━━━━━━━━━━━━━━━━━\u001b[0m\u001b[37m\u001b[0m \u001b[1m8s\u001b[0m 4ms/step\n",
      "Hybrid Model Performance:\n",
      "MAE: 0.09164157097650664\n",
      "MSE: 0.059940338273072956\n",
      "RMSE: 0.24482715999878968\n",
      "R² Score: 0.9408345214034011\n"
     ]
    }
   ],
   "source": [
    "import numpy as np\n",
    "import pandas as pd\n",
    "import tensorflow as tf\n",
    "from tensorflow.keras.models import Sequential, Model\n",
    "from tensorflow.keras.layers import Conv1D, MaxPooling1D, Flatten, LSTM, Dense, Dropout, Input\n",
    "import xgboost as xgb\n",
    "from sklearn.model_selection import train_test_split\n",
    "from sklearn.preprocessing import StandardScaler, OneHotEncoder\n",
    "from sklearn.metrics import mean_absolute_error, mean_squared_error, r2_score\n",
    "\n",
    "# Load the dataset\n",
    "df = pd.read_csv(\"Warehouse_and_Retail_Sales_Enhanced_Copy.csv\")\n",
    "\n",
    "# Convert DATE column to datetime and sort\n",
    "df['DATE'] = pd.to_datetime(df['DATE'])\n",
    "df = df.sort_values(by='DATE')\n",
    "\n",
    "# Drop unnecessary columns\n",
    "df.drop(['ITEM CODE', 'ITEM DESCRIPTION', 'DATE'], axis=1, inplace=True)\n",
    "\n",
    "# Identify categorical columns\n",
    "categorical_cols = df.select_dtypes(include=['object', 'category']).columns\n",
    "\n",
    "# Apply One-Hot Encoding to categorical features\n",
    "df = pd.get_dummies(df, columns=categorical_cols, drop_first=True)\n",
    "\n",
    "# Normalize the numeric features\n",
    "scaler = StandardScaler()\n",
    "df_scaled = pd.DataFrame(scaler.fit_transform(df), columns=df.columns)\n",
    "\n",
    "# Define input features and target\n",
    "X = df_scaled.drop(columns=['RETAIL SALES'])  # Assuming 'RETAIL SALES' is the target\n",
    "y = df_scaled['RETAIL SALES']\n",
    "\n",
    "# Reshape for LSTM (samples, timesteps, features)\n",
    "X_lstm = X.values.reshape(X.shape[0], 1, X.shape[1])\n",
    "\n",
    "# Train-test split\n",
    "X_train, X_test, y_train, y_test = train_test_split(X_lstm, y, test_size=0.2, random_state=42)\n",
    "\n",
    "# Build CNN-LSTM model\n",
    "inputs = Input(shape=(X_train.shape[1], X_train.shape[2]))\n",
    "x = Conv1D(filters=64, kernel_size=1, activation='relu')(inputs)\n",
    "x = MaxPooling1D(pool_size=1)(x)\n",
    "x = LSTM(50, return_sequences=True)(x)\n",
    "x = LSTM(50)(x)\n",
    "x = Dense(64, activation='relu')(x)\n",
    "x = Dropout(0.2)(x)\n",
    "outputs = Dense(1)(x)\n",
    "\n",
    "cnn_lstm_model = Model(inputs, outputs)\n",
    "cnn_lstm_model.compile(optimizer='adam', loss='mse')\n",
    "\n",
    "# Train CNN-LSTM model\n",
    "cnn_lstm_model.fit(X_train, y_train, epochs=20, batch_size=16, validation_data=(X_test, y_test))\n",
    "\n",
    "# Extract Features from CNN-LSTM Model\n",
    "feature_extractor = Model(inputs=cnn_lstm_model.input, outputs=cnn_lstm_model.get_layer(index=-2).output)\n",
    "X_train_features = feature_extractor.predict(X_train)\n",
    "X_test_features = feature_extractor.predict(X_test)\n",
    "\n",
    "# Define XGBoost Model with Provided Parameters\n",
    "xgb_model = xgb.XGBRegressor(\n",
    "    base_score=None, booster=None, callbacks=None,\n",
    "    colsample_bylevel=None, colsample_bynode=None,\n",
    "    colsample_bytree=0.994219936634436, device=None,\n",
    "    early_stopping_rounds=None, enable_categorical=False,\n",
    "    eval_metric=None, feature_types=None, gamma=5.6204992935209104e-05,\n",
    "    grow_policy=None, importance_type=None,\n",
    "    interaction_constraints=None, learning_rate=0.022079998025582893,\n",
    "    max_bin=None, max_cat_threshold=None, max_cat_to_onehot=None,\n",
    "    max_delta_step=None, max_depth=10, max_leaves=None,\n",
    "    min_child_weight=None, missing=np.nan, monotone_constraints=None,\n",
    "    multi_strategy=None, n_estimators=500, n_jobs=None,\n",
    "    num_parallel_tree=None, random_state=42\n",
    ")\n",
    "\n",
    "# Train XGBoost on Extracted Features\n",
    "xgb_model.fit(X_train_features, y_train)\n",
    "y_pred = xgb_model.predict(X_test_features)\n",
    "\n",
    "# Evaluate Model\n",
    "mae = mean_absolute_error(y_test, y_pred)\n",
    "mse = mean_squared_error(y_test, y_pred)\n",
    "rmse = np.sqrt(mse)\n",
    "r2 = r2_score(y_test, y_pred)\n",
    "\n",
    "print(f\"Hybrid Model Performance:\\nMAE: {mae}\\nMSE: {mse}\\nRMSE: {rmse}\\nR² Score: {r2}\")"
   ]
  },
  {
   "cell_type": "code",
   "execution_count": 43,
   "id": "c194bf98-a1c6-4761-97bb-3a02f18a6c5f",
   "metadata": {},
   "outputs": [
    {
     "name": "stderr",
     "output_type": "stream",
     "text": [
      "C:\\Users\\akhil\\AppData\\Local\\Programs\\Python\\Python312\\Lib\\site-packages\\statsmodels\\tsa\\base\\tsa_model.py:473: ValueWarning: An unsupported index was provided. As a result, forecasts cannot be generated. To use the model for forecasting, use one of the supported classes of index.\n",
      "  self._init_dates(dates, freq)\n",
      "C:\\Users\\akhil\\AppData\\Local\\Programs\\Python\\Python312\\Lib\\site-packages\\statsmodels\\tsa\\base\\tsa_model.py:473: ValueWarning: An unsupported index was provided. As a result, forecasts cannot be generated. To use the model for forecasting, use one of the supported classes of index.\n",
      "  self._init_dates(dates, freq)\n",
      "C:\\Users\\akhil\\AppData\\Local\\Programs\\Python\\Python312\\Lib\\site-packages\\statsmodels\\tsa\\base\\tsa_model.py:473: ValueWarning: An unsupported index was provided. As a result, forecasts cannot be generated. To use the model for forecasting, use one of the supported classes of index.\n",
      "  self._init_dates(dates, freq)\n",
      "C:\\Users\\akhil\\AppData\\Local\\Programs\\Python\\Python312\\Lib\\site-packages\\statsmodels\\tsa\\base\\tsa_model.py:837: ValueWarning: No supported index is available. Prediction results will be given with an integer index beginning at `start`.\n",
      "  return get_prediction_index(\n",
      "C:\\Users\\akhil\\AppData\\Local\\Programs\\Python\\Python312\\Lib\\site-packages\\statsmodels\\tsa\\base\\tsa_model.py:837: FutureWarning: No supported index is available. In the next version, calling this method in a model without a supported index will result in an exception.\n",
      "  return get_prediction_index(\n"
     ]
    },
    {
     "name": "stdout",
     "output_type": "stream",
     "text": [
      "ARIMA Performance:\n",
      "MAE: 0.3715356531580079\n",
      "MSE: 1.143703803302056\n",
      "RMSE: 1.069440883500372\n",
      "R² Score: -0.12891893580645664\n"
     ]
    }
   ],
   "source": [
    "from statsmodels.tsa.arima.model import ARIMA\n",
    "\n",
    "# Train ARIMA\n",
    "order = (5, 1, 0)  # ARIMA hyperparameters (can be tuned)\n",
    "arima_model = ARIMA(y_train, order=order)\n",
    "arima_model_fit = arima_model.fit()\n",
    "\n",
    "# Predict\n",
    "y_pred_arima = arima_model_fit.forecast(steps=len(y_test))\n",
    "\n",
    "# Evaluate ARIMA\n",
    "mae_arima = mean_absolute_error(y_test, y_pred_arima)\n",
    "mse_arima = mean_squared_error(y_test, y_pred_arima)\n",
    "rmse_arima = np.sqrt(mse_arima)\n",
    "r2_arima = r2_score(y_test, y_pred_arima)\n",
    "\n",
    "print(f\"ARIMA Performance:\\nMAE: {mae_arima}\\nMSE: {mse_arima}\\nRMSE: {rmse_arima}\\nR² Score: {r2_arima}\")"
   ]
  },
  {
   "cell_type": "code",
   "execution_count": 44,
   "id": "2bbcd5ef-078d-4be3-bbe9-3e3cd08287c4",
   "metadata": {},
   "outputs": [
    {
     "name": "stdout",
     "output_type": "stream",
     "text": [
      "XGBoost Performance:\n",
      "MAE: 0.0855337142135315\n",
      "MSE: 0.05264333335229172\n",
      "RMSE: 0.22944135057197454\n",
      "R² Score: 0.9480371966117541\n"
     ]
    }
   ],
   "source": [
    "xgb_baseline = xgb.XGBRegressor(\n",
    "    n_estimators=500, learning_rate=0.02, max_depth=10, colsample_bytree=0.99, gamma=0.000056,\n",
    "    random_state=42\n",
    ")\n",
    "\n",
    "xgb_baseline.fit(X_train.reshape(X_train.shape[0], X_train.shape[2]), y_train)\n",
    "y_pred_xgb = xgb_baseline.predict(X_test.reshape(X_test.shape[0], X_test.shape[2]))\n",
    "\n",
    "# Evaluate XGBoost\n",
    "mae_xgb = mean_absolute_error(y_test, y_pred_xgb)\n",
    "mse_xgb = mean_squared_error(y_test, y_pred_xgb)\n",
    "rmse_xgb = np.sqrt(mse_xgb)\n",
    "r2_xgb = r2_score(y_test, y_pred_xgb)\n",
    "\n",
    "print(f\"XGBoost Performance:\\nMAE: {mae_xgb}\\nMSE: {mse_xgb}\\nRMSE: {rmse_xgb}\\nR² Score: {r2_xgb}\")"
   ]
  },
  {
   "cell_type": "code",
   "execution_count": 45,
   "id": "5a389b39-5389-43e8-939a-b8d947e546dd",
   "metadata": {},
   "outputs": [
    {
     "name": "stderr",
     "output_type": "stream",
     "text": [
      "C:\\Users\\akhil\\AppData\\Local\\Programs\\Python\\Python312\\Lib\\site-packages\\keras\\src\\layers\\rnn\\rnn.py:200: UserWarning: Do not pass an `input_shape`/`input_dim` argument to a layer. When using Sequential models, prefer using an `Input(shape)` object as the first layer in the model instead.\n",
      "  super().__init__(**kwargs)\n"
     ]
    },
    {
     "name": "stdout",
     "output_type": "stream",
     "text": [
      "Epoch 1/20\n",
      "\u001b[1m15383/15383\u001b[0m \u001b[32m━━━━━━━━━━━━━━━━━━━━\u001b[0m\u001b[37m\u001b[0m \u001b[1m124s\u001b[0m 8ms/step - loss: 0.0984 - val_loss: 0.0632\n",
      "Epoch 2/20\n",
      "\u001b[1m15383/15383\u001b[0m \u001b[32m━━━━━━━━━━━━━━━━━━━━\u001b[0m\u001b[37m\u001b[0m \u001b[1m114s\u001b[0m 7ms/step - loss: 0.0731 - val_loss: 0.0632\n",
      "Epoch 3/20\n",
      "\u001b[1m15383/15383\u001b[0m \u001b[32m━━━━━━━━━━━━━━━━━━━━\u001b[0m\u001b[37m\u001b[0m \u001b[1m138s\u001b[0m 7ms/step - loss: 0.0697 - val_loss: 0.0620\n",
      "Epoch 4/20\n",
      "\u001b[1m15383/15383\u001b[0m \u001b[32m━━━━━━━━━━━━━━━━━━━━\u001b[0m\u001b[37m\u001b[0m \u001b[1m122s\u001b[0m 8ms/step - loss: 0.0670 - val_loss: 0.0746\n",
      "Epoch 5/20\n",
      "\u001b[1m15383/15383\u001b[0m \u001b[32m━━━━━━━━━━━━━━━━━━━━\u001b[0m\u001b[37m\u001b[0m \u001b[1m116s\u001b[0m 8ms/step - loss: 0.0693 - val_loss: 0.0631\n",
      "Epoch 6/20\n",
      "\u001b[1m15383/15383\u001b[0m \u001b[32m━━━━━━━━━━━━━━━━━━━━\u001b[0m\u001b[37m\u001b[0m \u001b[1m116s\u001b[0m 8ms/step - loss: 0.0699 - val_loss: 0.0615\n",
      "Epoch 7/20\n",
      "\u001b[1m15383/15383\u001b[0m \u001b[32m━━━━━━━━━━━━━━━━━━━━\u001b[0m\u001b[37m\u001b[0m \u001b[1m116s\u001b[0m 8ms/step - loss: 0.0672 - val_loss: 0.0625\n",
      "Epoch 8/20\n",
      "\u001b[1m15383/15383\u001b[0m \u001b[32m━━━━━━━━━━━━━━━━━━━━\u001b[0m\u001b[37m\u001b[0m \u001b[1m140s\u001b[0m 7ms/step - loss: 0.0672 - val_loss: 0.0601\n",
      "Epoch 9/20\n",
      "\u001b[1m15383/15383\u001b[0m \u001b[32m━━━━━━━━━━━━━━━━━━━━\u001b[0m\u001b[37m\u001b[0m \u001b[1m142s\u001b[0m 7ms/step - loss: 0.0654 - val_loss: 0.0647\n",
      "Epoch 10/20\n",
      "\u001b[1m15383/15383\u001b[0m \u001b[32m━━━━━━━━━━━━━━━━━━━━\u001b[0m\u001b[37m\u001b[0m \u001b[1m113s\u001b[0m 7ms/step - loss: 0.0645 - val_loss: 0.0598\n",
      "Epoch 11/20\n",
      "\u001b[1m15383/15383\u001b[0m \u001b[32m━━━━━━━━━━━━━━━━━━━━\u001b[0m\u001b[37m\u001b[0m \u001b[1m143s\u001b[0m 7ms/step - loss: 0.0622 - val_loss: 0.0600\n",
      "Epoch 12/20\n",
      "\u001b[1m15383/15383\u001b[0m \u001b[32m━━━━━━━━━━━━━━━━━━━━\u001b[0m\u001b[37m\u001b[0m \u001b[1m111s\u001b[0m 7ms/step - loss: 0.0652 - val_loss: 0.0582\n",
      "Epoch 13/20\n",
      "\u001b[1m15383/15383\u001b[0m \u001b[32m━━━━━━━━━━━━━━━━━━━━\u001b[0m\u001b[37m\u001b[0m \u001b[1m111s\u001b[0m 7ms/step - loss: 0.0678 - val_loss: 0.0593\n",
      "Epoch 14/20\n",
      "\u001b[1m15383/15383\u001b[0m \u001b[32m━━━━━━━━━━━━━━━━━━━━\u001b[0m\u001b[37m\u001b[0m \u001b[1m113s\u001b[0m 7ms/step - loss: 0.0635 - val_loss: 0.0580\n",
      "Epoch 15/20\n",
      "\u001b[1m15383/15383\u001b[0m \u001b[32m━━━━━━━━━━━━━━━━━━━━\u001b[0m\u001b[37m\u001b[0m \u001b[1m144s\u001b[0m 7ms/step - loss: 0.0659 - val_loss: 0.0600\n",
      "Epoch 16/20\n",
      "\u001b[1m15383/15383\u001b[0m \u001b[32m━━━━━━━━━━━━━━━━━━━━\u001b[0m\u001b[37m\u001b[0m \u001b[1m119s\u001b[0m 8ms/step - loss: 0.0655 - val_loss: 0.0600\n",
      "Epoch 17/20\n",
      "\u001b[1m15383/15383\u001b[0m \u001b[32m━━━━━━━━━━━━━━━━━━━━\u001b[0m\u001b[37m\u001b[0m \u001b[1m117s\u001b[0m 8ms/step - loss: 0.0626 - val_loss: 0.0592\n",
      "Epoch 18/20\n",
      "\u001b[1m15383/15383\u001b[0m \u001b[32m━━━━━━━━━━━━━━━━━━━━\u001b[0m\u001b[37m\u001b[0m \u001b[1m118s\u001b[0m 8ms/step - loss: 0.0648 - val_loss: 0.0579\n",
      "Epoch 19/20\n",
      "\u001b[1m15383/15383\u001b[0m \u001b[32m━━━━━━━━━━━━━━━━━━━━\u001b[0m\u001b[37m\u001b[0m \u001b[1m115s\u001b[0m 7ms/step - loss: 0.0636 - val_loss: 0.0610\n",
      "Epoch 20/20\n",
      "\u001b[1m15383/15383\u001b[0m \u001b[32m━━━━━━━━━━━━━━━━━━━━\u001b[0m\u001b[37m\u001b[0m \u001b[1m122s\u001b[0m 8ms/step - loss: 0.0634 - val_loss: 0.0582\n",
      "\u001b[1m1923/1923\u001b[0m \u001b[32m━━━━━━━━━━━━━━━━━━━━\u001b[0m\u001b[37m\u001b[0m \u001b[1m7s\u001b[0m 3ms/step\n",
      "LSTM Performance:\n",
      "MAE: 0.09643171060369754\n",
      "MSE: 0.05823257331481017\n",
      "RMSE: 0.24131426255986232\n",
      "R² Score: 0.9425202097728227\n"
     ]
    }
   ],
   "source": [
    "lstm_model = Sequential([\n",
    "    LSTM(50, return_sequences=True, input_shape=(X_train.shape[1], X_train.shape[2])),\n",
    "    LSTM(50, return_sequences=False),\n",
    "    Dense(64, activation='relu'),\n",
    "    Dropout(0.2),\n",
    "    Dense(1)\n",
    "])\n",
    "\n",
    "lstm_model.compile(optimizer='adam', loss='mse')\n",
    "lstm_model.fit(X_train, y_train, epochs=20, batch_size=16, validation_data=(X_test, y_test))\n",
    "\n",
    "# Predict\n",
    "y_pred_lstm = lstm_model.predict(X_test)\n",
    "\n",
    "# Evaluate LSTM\n",
    "mae_lstm = mean_absolute_error(y_test, y_pred_lstm)\n",
    "mse_lstm = mean_squared_error(y_test, y_pred_lstm)\n",
    "rmse_lstm = np.sqrt(mse_lstm)\n",
    "r2_lstm = r2_score(y_test, y_pred_lstm)\n",
    "\n",
    "print(f\"LSTM Performance:\\nMAE: {mae_lstm}\\nMSE: {mse_lstm}\\nRMSE: {rmse_lstm}\\nR² Score: {r2_lstm}\")"
   ]
  },
  {
   "cell_type": "code",
   "execution_count": 7,
   "id": "ce3a2107-d72b-4f1c-a165-49e879fb92ac",
   "metadata": {},
   "outputs": [
    {
     "name": "stdout",
     "output_type": "stream",
     "text": [
      "Trial 20 Complete [00h 21m 28s]\n",
      "val_loss: 0.0011920144315809011\n",
      "\n",
      "Best val_loss So Far: 0.0011674276320263743\n",
      "Total elapsed time: 04h 44m 51s\n",
      "Best Filters: 32\n",
      "Best LSTM Units: 50\n",
      "Best Dropout Rate: 0.4\n"
     ]
    },
    {
     "name": "stderr",
     "output_type": "stream",
     "text": [
      "C:\\Users\\akhil\\AppData\\Local\\Programs\\Python\\Python312\\Lib\\site-packages\\keras\\src\\layers\\convolutional\\base_conv.py:107: UserWarning: Do not pass an `input_shape`/`input_dim` argument to a layer. When using Sequential models, prefer using an `Input(shape)` object as the first layer in the model instead.\n",
      "  super().__init__(activity_regularizer=activity_regularizer, **kwargs)\n"
     ]
    },
    {
     "name": "stdout",
     "output_type": "stream",
     "text": [
      "Epoch 1/50\n",
      "\u001b[1m7692/7692\u001b[0m \u001b[32m━━━━━━━━━━━━━━━━━━━━\u001b[0m\u001b[37m\u001b[0m \u001b[1m107s\u001b[0m 13ms/step - loss: 0.0026 - val_loss: 0.0013\n",
      "Epoch 2/50\n",
      "\u001b[1m7692/7692\u001b[0m \u001b[32m━━━━━━━━━━━━━━━━━━━━\u001b[0m\u001b[37m\u001b[0m \u001b[1m99s\u001b[0m 13ms/step - loss: 0.0016 - val_loss: 0.0013\n",
      "Epoch 3/50\n",
      "\u001b[1m7692/7692\u001b[0m \u001b[32m━━━━━━━━━━━━━━━━━━━━\u001b[0m\u001b[37m\u001b[0m \u001b[1m88s\u001b[0m 11ms/step - loss: 0.0017 - val_loss: 0.0013\n",
      "Epoch 4/50\n",
      "\u001b[1m7692/7692\u001b[0m \u001b[32m━━━━━━━━━━━━━━━━━━━━\u001b[0m\u001b[37m\u001b[0m \u001b[1m80s\u001b[0m 10ms/step - loss: 0.0016 - val_loss: 0.0012\n",
      "Epoch 5/50\n",
      "\u001b[1m7692/7692\u001b[0m \u001b[32m━━━━━━━━━━━━━━━━━━━━\u001b[0m\u001b[37m\u001b[0m \u001b[1m89s\u001b[0m 11ms/step - loss: 0.0016 - val_loss: 0.0012\n",
      "Epoch 6/50\n",
      "\u001b[1m7692/7692\u001b[0m \u001b[32m━━━━━━━━━━━━━━━━━━━━\u001b[0m\u001b[37m\u001b[0m \u001b[1m149s\u001b[0m 12ms/step - loss: 0.0015 - val_loss: 0.0013\n",
      "Epoch 7/50\n",
      "\u001b[1m7692/7692\u001b[0m \u001b[32m━━━━━━━━━━━━━━━━━━━━\u001b[0m\u001b[37m\u001b[0m \u001b[1m139s\u001b[0m 12ms/step - loss: 0.0016 - val_loss: 0.0012\n",
      "Epoch 8/50\n",
      "\u001b[1m7692/7692\u001b[0m \u001b[32m━━━━━━━━━━━━━━━━━━━━\u001b[0m\u001b[37m\u001b[0m \u001b[1m141s\u001b[0m 12ms/step - loss: 0.0016 - val_loss: 0.0013\n",
      "Epoch 9/50\n",
      "\u001b[1m7692/7692\u001b[0m \u001b[32m━━━━━━━━━━━━━━━━━━━━\u001b[0m\u001b[37m\u001b[0m \u001b[1m70s\u001b[0m 9ms/step - loss: 0.0016 - val_loss: 0.0012\n",
      "Epoch 10/50\n",
      "\u001b[1m7692/7692\u001b[0m \u001b[32m━━━━━━━━━━━━━━━━━━━━\u001b[0m\u001b[37m\u001b[0m \u001b[1m77s\u001b[0m 8ms/step - loss: 0.0016 - val_loss: 0.0013\n",
      "Epoch 11/50\n",
      "\u001b[1m7692/7692\u001b[0m \u001b[32m━━━━━━━━━━━━━━━━━━━━\u001b[0m\u001b[37m\u001b[0m \u001b[1m84s\u001b[0m 9ms/step - loss: 0.0016 - val_loss: 0.0013\n",
      "Epoch 12/50\n",
      "\u001b[1m7692/7692\u001b[0m \u001b[32m━━━━━━━━━━━━━━━━━━━━\u001b[0m\u001b[37m\u001b[0m \u001b[1m76s\u001b[0m 8ms/step - loss: 0.0015 - val_loss: 0.0014\n",
      "Epoch 13/50\n",
      "\u001b[1m7692/7692\u001b[0m \u001b[32m━━━━━━━━━━━━━━━━━━━━\u001b[0m\u001b[37m\u001b[0m \u001b[1m87s\u001b[0m 9ms/step - loss: 0.0016 - val_loss: 0.0012\n",
      "Epoch 14/50\n",
      "\u001b[1m7692/7692\u001b[0m \u001b[32m━━━━━━━━━━━━━━━━━━━━\u001b[0m\u001b[37m\u001b[0m \u001b[1m74s\u001b[0m 8ms/step - loss: 0.0015 - val_loss: 0.0012\n",
      "Epoch 15/50\n",
      "\u001b[1m7692/7692\u001b[0m \u001b[32m━━━━━━━━━━━━━━━━━━━━\u001b[0m\u001b[37m\u001b[0m \u001b[1m62s\u001b[0m 8ms/step - loss: 0.0016 - val_loss: 0.0013\n",
      "Epoch 16/50\n",
      "\u001b[1m7692/7692\u001b[0m \u001b[32m━━━━━━━━━━━━━━━━━━━━\u001b[0m\u001b[37m\u001b[0m \u001b[1m70s\u001b[0m 7ms/step - loss: 0.0016 - val_loss: 0.0013\n",
      "Epoch 17/50\n",
      "\u001b[1m7692/7692\u001b[0m \u001b[32m━━━━━━━━━━━━━━━━━━━━\u001b[0m\u001b[37m\u001b[0m \u001b[1m92s\u001b[0m 8ms/step - loss: 0.0016 - val_loss: 0.0013\n",
      "Epoch 18/50\n",
      "\u001b[1m7692/7692\u001b[0m \u001b[32m━━━━━━━━━━━━━━━━━━━━\u001b[0m\u001b[37m\u001b[0m \u001b[1m52s\u001b[0m 7ms/step - loss: 0.0016 - val_loss: 0.0012\n",
      "Epoch 19/50\n",
      "\u001b[1m7692/7692\u001b[0m \u001b[32m━━━━━━━━━━━━━━━━━━━━\u001b[0m\u001b[37m\u001b[0m \u001b[1m65s\u001b[0m 8ms/step - loss: 0.0015 - val_loss: 0.0013\n",
      "Epoch 20/50\n",
      "\u001b[1m7692/7692\u001b[0m \u001b[32m━━━━━━━━━━━━━━━━━━━━\u001b[0m\u001b[37m\u001b[0m \u001b[1m92s\u001b[0m 10ms/step - loss: 0.0015 - val_loss: 0.0012\n",
      "Epoch 21/50\n",
      "\u001b[1m7692/7692\u001b[0m \u001b[32m━━━━━━━━━━━━━━━━━━━━\u001b[0m\u001b[37m\u001b[0m \u001b[1m75s\u001b[0m 10ms/step - loss: 0.0016 - val_loss: 0.0012\n",
      "Epoch 22/50\n",
      "\u001b[1m7692/7692\u001b[0m \u001b[32m━━━━━━━━━━━━━━━━━━━━\u001b[0m\u001b[37m\u001b[0m \u001b[1m86s\u001b[0m 10ms/step - loss: 0.0015 - val_loss: 0.0012\n",
      "Epoch 23/50\n",
      "\u001b[1m7692/7692\u001b[0m \u001b[32m━━━━━━━━━━━━━━━━━━━━\u001b[0m\u001b[37m\u001b[0m \u001b[1m78s\u001b[0m 10ms/step - loss: 0.0015 - val_loss: 0.0012\n",
      "Epoch 24/50\n",
      "\u001b[1m7692/7692\u001b[0m \u001b[32m━━━━━━━━━━━━━━━━━━━━\u001b[0m\u001b[37m\u001b[0m \u001b[1m71s\u001b[0m 8ms/step - loss: 0.0015 - val_loss: 0.0013\n",
      "Epoch 25/50\n",
      "\u001b[1m7692/7692\u001b[0m \u001b[32m━━━━━━━━━━━━━━━━━━━━\u001b[0m\u001b[37m\u001b[0m \u001b[1m96s\u001b[0m 10ms/step - loss: 0.0015 - val_loss: 0.0012\n",
      "Epoch 26/50\n",
      "\u001b[1m7692/7692\u001b[0m \u001b[32m━━━━━━━━━━━━━━━━━━━━\u001b[0m\u001b[37m\u001b[0m \u001b[1m69s\u001b[0m 9ms/step - loss: 0.0015 - val_loss: 0.0012\n",
      "Epoch 27/50\n",
      "\u001b[1m7692/7692\u001b[0m \u001b[32m━━━━━━━━━━━━━━━━━━━━\u001b[0m\u001b[37m\u001b[0m \u001b[1m88s\u001b[0m 10ms/step - loss: 0.0015 - val_loss: 0.0012\n",
      "Epoch 28/50\n",
      "\u001b[1m7692/7692\u001b[0m \u001b[32m━━━━━━━━━━━━━━━━━━━━\u001b[0m\u001b[37m\u001b[0m \u001b[1m78s\u001b[0m 9ms/step - loss: 0.0015 - val_loss: 0.0012\n",
      "Epoch 29/50\n",
      "\u001b[1m7692/7692\u001b[0m \u001b[32m━━━━━━━━━━━━━━━━━━━━\u001b[0m\u001b[37m\u001b[0m \u001b[1m86s\u001b[0m 10ms/step - loss: 0.0015 - val_loss: 0.0011\n",
      "Epoch 30/50\n",
      "\u001b[1m7692/7692\u001b[0m \u001b[32m━━━━━━━━━━━━━━━━━━━━\u001b[0m\u001b[37m\u001b[0m \u001b[1m77s\u001b[0m 10ms/step - loss: 0.0015 - val_loss: 0.0012\n",
      "Epoch 31/50\n",
      "\u001b[1m7692/7692\u001b[0m \u001b[32m━━━━━━━━━━━━━━━━━━━━\u001b[0m\u001b[37m\u001b[0m \u001b[1m78s\u001b[0m 9ms/step - loss: 0.0015 - val_loss: 0.0012\n",
      "Epoch 32/50\n",
      "\u001b[1m7692/7692\u001b[0m \u001b[32m━━━━━━━━━━━━━━━━━━━━\u001b[0m\u001b[37m\u001b[0m \u001b[1m79s\u001b[0m 9ms/step - loss: 0.0015 - val_loss: 0.0012\n",
      "Epoch 33/50\n",
      "\u001b[1m7692/7692\u001b[0m \u001b[32m━━━━━━━━━━━━━━━━━━━━\u001b[0m\u001b[37m\u001b[0m \u001b[1m83s\u001b[0m 9ms/step - loss: 0.0015 - val_loss: 0.0012\n",
      "Epoch 34/50\n",
      "\u001b[1m7692/7692\u001b[0m \u001b[32m━━━━━━━━━━━━━━━━━━━━\u001b[0m\u001b[37m\u001b[0m \u001b[1m81s\u001b[0m 9ms/step - loss: 0.0015 - val_loss: 0.0014\n",
      "Epoch 35/50\n",
      "\u001b[1m7692/7692\u001b[0m \u001b[32m━━━━━━━━━━━━━━━━━━━━\u001b[0m\u001b[37m\u001b[0m \u001b[1m83s\u001b[0m 9ms/step - loss: 0.0015 - val_loss: 0.0012\n",
      "Epoch 36/50\n",
      "\u001b[1m7692/7692\u001b[0m \u001b[32m━━━━━━━━━━━━━━━━━━━━\u001b[0m\u001b[37m\u001b[0m \u001b[1m86s\u001b[0m 10ms/step - loss: 0.0016 - val_loss: 0.0012\n",
      "Epoch 37/50\n",
      "\u001b[1m7692/7692\u001b[0m \u001b[32m━━━━━━━━━━━━━━━━━━━━\u001b[0m\u001b[37m\u001b[0m \u001b[1m75s\u001b[0m 9ms/step - loss: 0.0015 - val_loss: 0.0012\n",
      "Epoch 38/50\n",
      "\u001b[1m7692/7692\u001b[0m \u001b[32m━━━━━━━━━━━━━━━━━━━━\u001b[0m\u001b[37m\u001b[0m \u001b[1m89s\u001b[0m 10ms/step - loss: 0.0015 - val_loss: 0.0013\n",
      "Epoch 39/50\n",
      "\u001b[1m7692/7692\u001b[0m \u001b[32m━━━━━━━━━━━━━━━━━━━━\u001b[0m\u001b[37m\u001b[0m \u001b[1m81s\u001b[0m 10ms/step - loss: 0.0015 - val_loss: 0.0012\n",
      "Epoch 40/50\n",
      "\u001b[1m7692/7692\u001b[0m \u001b[32m━━━━━━━━━━━━━━━━━━━━\u001b[0m\u001b[37m\u001b[0m \u001b[1m84s\u001b[0m 10ms/step - loss: 0.0015 - val_loss: 0.0012\n",
      "Epoch 41/50\n",
      "\u001b[1m7692/7692\u001b[0m \u001b[32m━━━━━━━━━━━━━━━━━━━━\u001b[0m\u001b[37m\u001b[0m \u001b[1m83s\u001b[0m 10ms/step - loss: 0.0015 - val_loss: 0.0012\n",
      "Epoch 42/50\n",
      "\u001b[1m7692/7692\u001b[0m \u001b[32m━━━━━━━━━━━━━━━━━━━━\u001b[0m\u001b[37m\u001b[0m \u001b[1m73s\u001b[0m 9ms/step - loss: 0.0015 - val_loss: 0.0012\n",
      "Epoch 43/50\n",
      "\u001b[1m7692/7692\u001b[0m \u001b[32m━━━━━━━━━━━━━━━━━━━━\u001b[0m\u001b[37m\u001b[0m \u001b[1m91s\u001b[0m 10ms/step - loss: 0.0015 - val_loss: 0.0012\n",
      "Epoch 44/50\n",
      "\u001b[1m7692/7692\u001b[0m \u001b[32m━━━━━━━━━━━━━━━━━━━━\u001b[0m\u001b[37m\u001b[0m \u001b[1m80s\u001b[0m 10ms/step - loss: 0.0015 - val_loss: 0.0012\n",
      "Epoch 45/50\n",
      "\u001b[1m7692/7692\u001b[0m \u001b[32m━━━━━━━━━━━━━━━━━━━━\u001b[0m\u001b[37m\u001b[0m \u001b[1m81s\u001b[0m 10ms/step - loss: 0.0015 - val_loss: 0.0012\n",
      "Epoch 46/50\n",
      "\u001b[1m7692/7692\u001b[0m \u001b[32m━━━━━━━━━━━━━━━━━━━━\u001b[0m\u001b[37m\u001b[0m \u001b[1m80s\u001b[0m 9ms/step - loss: 0.0015 - val_loss: 0.0012\n",
      "Epoch 47/50\n",
      "\u001b[1m7692/7692\u001b[0m \u001b[32m━━━━━━━━━━━━━━━━━━━━\u001b[0m\u001b[37m\u001b[0m \u001b[1m80s\u001b[0m 9ms/step - loss: 0.0016 - val_loss: 0.0012\n",
      "Epoch 48/50\n",
      "\u001b[1m7692/7692\u001b[0m \u001b[32m━━━━━━━━━━━━━━━━━━━━\u001b[0m\u001b[37m\u001b[0m \u001b[1m80s\u001b[0m 9ms/step - loss: 0.0015 - val_loss: 0.0013\n",
      "Epoch 49/50\n",
      "\u001b[1m7692/7692\u001b[0m \u001b[32m━━━━━━━━━━━━━━━━━━━━\u001b[0m\u001b[37m\u001b[0m \u001b[1m94s\u001b[0m 12ms/step - loss: 0.0015 - val_loss: 0.0013\n",
      "Epoch 50/50\n",
      "\u001b[1m7692/7692\u001b[0m \u001b[32m━━━━━━━━━━━━━━━━━━━━\u001b[0m\u001b[37m\u001b[0m \u001b[1m93s\u001b[0m 12ms/step - loss: 0.0015 - val_loss: 0.0013\n",
      "\u001b[1m1923/1923\u001b[0m \u001b[32m━━━━━━━━━━━━━━━━━━━━\u001b[0m\u001b[37m\u001b[0m \u001b[1m8s\u001b[0m 4ms/step - loss: 0.0013\n",
      "Final Model Test MSE: 0.0012962949695065618\n"
     ]
    }
   ],
   "source": [
    "import pandas as pd\n",
    "import numpy as np\n",
    "import tensorflow as tf\n",
    "from tensorflow.keras.models import Sequential\n",
    "from tensorflow.keras.layers import Conv1D, MaxPooling1D, LSTM, Dense, Dropout\n",
    "from sklearn.model_selection import train_test_split\n",
    "from sklearn.preprocessing import StandardScaler, OneHotEncoder\n",
    "import keras_tuner as kt\n",
    "\n",
    "# ------------------ Step 1: Load the Dataset ------------------\n",
    "df = pd.read_csv(\"Warehouse_and_Retail_Sales_Enhanced_Copy.csv\")\n",
    "\n",
    "# ------------------ Step 2: Handle Missing Values ------------------\n",
    "df.dropna(inplace=True)  # Drop missing values\n",
    "\n",
    "# ------------------ Step 3: Drop Unnecessary Columns ------------------\n",
    "df.drop(columns=['ITEM CODE', 'ITEM DESCRIPTION', 'DATE'], inplace=True)\n",
    "\n",
    "# ------------------ Step 4: Encode Categorical Features ------------------\n",
    "encoder = OneHotEncoder(drop='first', sparse_output=False)  # Fix: Use `sparse_output=False` instead of `sparse=False`\n",
    "weather_encoded = encoder.fit_transform(df[['weather_condition']])\n",
    "weather_encoded_df = pd.DataFrame(weather_encoded, columns=encoder.get_feature_names_out(['weather_condition']))\n",
    "\n",
    "# Drop original categorical column & add encoded features\n",
    "df.drop(columns=['weather_condition'], inplace=True)\n",
    "df = pd.concat([df, weather_encoded_df], axis=1)\n",
    "\n",
    "# ------------------ Step 5: Define Features & Target ------------------\n",
    "X = df.drop(columns=['RETAIL SALES'])  # Features\n",
    "y = df['RETAIL SALES']  # Target variable\n",
    "\n",
    "# ------------------ Step 6: Train-Test Split ------------------\n",
    "X_train, X_test, y_train, y_test = train_test_split(X, y, test_size=0.2, random_state=42, shuffle=True)\n",
    "\n",
    "# ------------------ Step 7: Feature Scaling ------------------\n",
    "scaler = StandardScaler()\n",
    "X_train = scaler.fit_transform(X_train)\n",
    "X_test = scaler.transform(X_test)\n",
    "\n",
    "# Reshape X to be 3D (samples, timesteps, features) for CNN-LSTM\n",
    "X_train = X_train.reshape((X_train.shape[0], 1, X_train.shape[1]))\n",
    "X_test = X_test.reshape((X_test.shape[0], 1, X_test.shape[1]))\n",
    "\n",
    "# ------------------ Step 8: Define Hyperparameter Tuning Function ------------------\n",
    "def build_model(hp):\n",
    "    model = Sequential([\n",
    "        # Fix: Ensure kernel size is <= input length\n",
    "        Conv1D(filters=hp.Int('filters', 32, 128, step=32), \n",
    "               kernel_size=1,  # Fixed kernel size to avoid negative output issue\n",
    "               activation='relu', \n",
    "               input_shape=(X_train.shape[1], X_train.shape[2])),\n",
    "        MaxPooling1D(pool_size=1),  # Fix: Pooling size shouldn't be larger than sequence length\n",
    "\n",
    "        # LSTM Layers\n",
    "        LSTM(hp.Int('lstm_units', 50, 200, step=50), return_sequences=True),\n",
    "        LSTM(hp.Int('lstm_units', 50, 200, step=50)),\n",
    "\n",
    "        # Fully Connected Layers\n",
    "        Dense(128, activation='relu'),\n",
    "        Dropout(hp.Float('dropout_rate', 0.2, 0.5, step=0.1)),\n",
    "        Dense(1)\n",
    "    ])\n",
    "\n",
    "    model.compile(optimizer='adam', loss='mse')\n",
    "    return model\n",
    "\n",
    "# ------------------ Step 9: Initialize the Hyperparameter Tuner ------------------\n",
    "tuner = kt.BayesianOptimization(\n",
    "    build_model, \n",
    "    objective='val_loss', \n",
    "    max_trials=20\n",
    ")\n",
    "\n",
    "# ------------------ Step 10: Run the Hyperparameter Search ------------------\n",
    "tuner.search(X_train, y_train, epochs=10, validation_split=0.2, verbose=1)\n",
    "\n",
    "# ------------------ Step 11: Get the Best Hyperparameters ------------------\n",
    "best_hps = tuner.get_best_hyperparameters()[0]\n",
    "print(f\"Best Filters: {best_hps.get('filters')}\")\n",
    "print(f\"Best LSTM Units: {best_hps.get('lstm_units')}\")\n",
    "print(f\"Best Dropout Rate: {best_hps.get('dropout_rate')}\")\n",
    "\n",
    "# ------------------ Step 12: Build and Train the Best Model ------------------\n",
    "best_model = tuner.hypermodel.build(best_hps)\n",
    "history = best_model.fit(X_train, y_train, epochs=50, validation_data=(X_test, y_test), verbose=1)\n",
    "\n",
    "# ------------------ Step 13: Evaluate Model Performance ------------------\n",
    "mse = best_model.evaluate(X_test, y_test)\n",
    "print(f\"Final Model Test MSE: {mse}\")"
   ]
  },
  {
   "cell_type": "code",
   "execution_count": 8,
   "id": "59936862-2012-484c-8c56-590fd3be5d72",
   "metadata": {},
   "outputs": [
    {
     "name": "stdout",
     "output_type": "stream",
     "text": [
      "\u001b[1m1923/1923\u001b[0m \u001b[32m━━━━━━━━━━━━━━━━━━━━\u001b[0m\u001b[37m\u001b[0m \u001b[1m9s\u001b[0m 4ms/step\n",
      "Mean Absolute Error (MAE): 0.015634641943595342\n",
      "Mean Squared Error (MSE): 0.0012962952950131626\n",
      "Root Mean Squared Error (RMSE): 0.03600410108603133\n",
      "R-Squared (R² Score): 0.9421965153643554\n"
     ]
    }
   ],
   "source": [
    "from sklearn.metrics import mean_absolute_error, mean_squared_error, r2_score\n",
    "import numpy as np\n",
    "\n",
    "# Predict on the test set using the best model\n",
    "y_pred = best_model.predict(X_test)\n",
    "\n",
    "# Calculate evaluation metrics\n",
    "mae = mean_absolute_error(y_test, y_pred)\n",
    "mse = mean_squared_error(y_test, y_pred)\n",
    "rmse = np.sqrt(mse)\n",
    "r2 = r2_score(y_test, y_pred)\n",
    "\n",
    "# Print the evaluation metrics\n",
    "print(f\"Mean Absolute Error (MAE): {mae}\")\n",
    "print(f\"Mean Squared Error (MSE): {mse}\")\n",
    "print(f\"Root Mean Squared Error (RMSE): {rmse}\")\n",
    "print(f\"R-Squared (R² Score): {r2}\")"
   ]
  },
  {
   "cell_type": "code",
   "execution_count": 1,
   "id": "4e6605ff-5c6e-4181-a185-5141faf53dd6",
   "metadata": {},
   "outputs": [
    {
     "name": "stdout",
     "output_type": "stream",
     "text": [
      "Epoch 1/20\n",
      "\u001b[1m15383/15383\u001b[0m \u001b[32m━━━━━━━━━━━━━━━━━━━━\u001b[0m\u001b[37m\u001b[0m \u001b[1m192s\u001b[0m 12ms/step - loss: 0.1191 - val_loss: 0.0804\n",
      "Epoch 2/20\n",
      "\u001b[1m15383/15383\u001b[0m \u001b[32m━━━━━━━━━━━━━━━━━━━━\u001b[0m\u001b[37m\u001b[0m \u001b[1m189s\u001b[0m 12ms/step - loss: 0.0900 - val_loss: 0.0613\n",
      "Epoch 3/20\n",
      "\u001b[1m15383/15383\u001b[0m \u001b[32m━━━━━━━━━━━━━━━━━━━━\u001b[0m\u001b[37m\u001b[0m \u001b[1m188s\u001b[0m 12ms/step - loss: 0.0861 - val_loss: 0.0613\n",
      "Epoch 4/20\n",
      "\u001b[1m15383/15383\u001b[0m \u001b[32m━━━━━━━━━━━━━━━━━━━━\u001b[0m\u001b[37m\u001b[0m \u001b[1m182s\u001b[0m 12ms/step - loss: 0.0851 - val_loss: 0.0604\n",
      "Epoch 5/20\n",
      "\u001b[1m15383/15383\u001b[0m \u001b[32m━━━━━━━━━━━━━━━━━━━━\u001b[0m\u001b[37m\u001b[0m \u001b[1m204s\u001b[0m 12ms/step - loss: 0.0852 - val_loss: 0.0605\n",
      "Epoch 6/20\n",
      "\u001b[1m15383/15383\u001b[0m \u001b[32m━━━━━━━━━━━━━━━━━━━━\u001b[0m\u001b[37m\u001b[0m \u001b[1m209s\u001b[0m 12ms/step - loss: 0.0849 - val_loss: 0.0622\n",
      "Epoch 7/20\n",
      "\u001b[1m15383/15383\u001b[0m \u001b[32m━━━━━━━━━━━━━━━━━━━━\u001b[0m\u001b[37m\u001b[0m \u001b[1m187s\u001b[0m 12ms/step - loss: 0.0854 - val_loss: 0.0664\n",
      "Epoch 8/20\n",
      "\u001b[1m15383/15383\u001b[0m \u001b[32m━━━━━━━━━━━━━━━━━━━━\u001b[0m\u001b[37m\u001b[0m \u001b[1m190s\u001b[0m 12ms/step - loss: 0.0876 - val_loss: 0.0657\n",
      "Epoch 9/20\n",
      "\u001b[1m15383/15383\u001b[0m \u001b[32m━━━━━━━━━━━━━━━━━━━━\u001b[0m\u001b[37m\u001b[0m \u001b[1m165s\u001b[0m 11ms/step - loss: 0.0821 - val_loss: 0.0592\n",
      "Epoch 10/20\n",
      "\u001b[1m15383/15383\u001b[0m \u001b[32m━━━━━━━━━━━━━━━━━━━━\u001b[0m\u001b[37m\u001b[0m \u001b[1m150s\u001b[0m 10ms/step - loss: 0.0828 - val_loss: 0.0589\n",
      "Epoch 11/20\n",
      "\u001b[1m15383/15383\u001b[0m \u001b[32m━━━━━━━━━━━━━━━━━━━━\u001b[0m\u001b[37m\u001b[0m \u001b[1m146s\u001b[0m 10ms/step - loss: 0.0823 - val_loss: 0.0600\n",
      "Epoch 12/20\n",
      "\u001b[1m15383/15383\u001b[0m \u001b[32m━━━━━━━━━━━━━━━━━━━━\u001b[0m\u001b[37m\u001b[0m \u001b[1m146s\u001b[0m 9ms/step - loss: 0.0813 - val_loss: 0.0604\n",
      "Epoch 13/20\n",
      "\u001b[1m15383/15383\u001b[0m \u001b[32m━━━━━━━━━━━━━━━━━━━━\u001b[0m\u001b[37m\u001b[0m \u001b[1m154s\u001b[0m 10ms/step - loss: 0.0842 - val_loss: 0.0585\n",
      "Epoch 14/20\n",
      "\u001b[1m15383/15383\u001b[0m \u001b[32m━━━━━━━━━━━━━━━━━━━━\u001b[0m\u001b[37m\u001b[0m \u001b[1m169s\u001b[0m 11ms/step - loss: 0.0819 - val_loss: 0.0613\n",
      "Epoch 15/20\n",
      "\u001b[1m15383/15383\u001b[0m \u001b[32m━━━━━━━━━━━━━━━━━━━━\u001b[0m\u001b[37m\u001b[0m \u001b[1m145s\u001b[0m 9ms/step - loss: 0.0804 - val_loss: 0.0651\n",
      "Epoch 16/20\n",
      "\u001b[1m15383/15383\u001b[0m \u001b[32m━━━━━━━━━━━━━━━━━━━━\u001b[0m\u001b[37m\u001b[0m \u001b[1m142s\u001b[0m 9ms/step - loss: 0.0815 - val_loss: 0.0609\n",
      "Epoch 17/20\n",
      "\u001b[1m15383/15383\u001b[0m \u001b[32m━━━━━━━━━━━━━━━━━━━━\u001b[0m\u001b[37m\u001b[0m \u001b[1m138s\u001b[0m 9ms/step - loss: 0.0836 - val_loss: 0.0657\n",
      "Epoch 18/20\n",
      "\u001b[1m15383/15383\u001b[0m \u001b[32m━━━━━━━━━━━━━━━━━━━━\u001b[0m\u001b[37m\u001b[0m \u001b[1m150s\u001b[0m 9ms/step - loss: 0.0816 - val_loss: 0.0588\n",
      "Epoch 19/20\n",
      "\u001b[1m15383/15383\u001b[0m \u001b[32m━━━━━━━━━━━━━━━━━━━━\u001b[0m\u001b[37m\u001b[0m \u001b[1m140s\u001b[0m 9ms/step - loss: 0.0825 - val_loss: 0.0585\n",
      "Epoch 20/20\n",
      "\u001b[1m15383/15383\u001b[0m \u001b[32m━━━━━━━━━━━━━━━━━━━━\u001b[0m\u001b[37m\u001b[0m \u001b[1m159s\u001b[0m 10ms/step - loss: 0.0812 - val_loss: 0.0579\n",
      "\u001b[1m7692/7692\u001b[0m \u001b[32m━━━━━━━━━━━━━━━━━━━━\u001b[0m\u001b[37m\u001b[0m \u001b[1m31s\u001b[0m 4ms/step\n",
      "\u001b[1m1923/1923\u001b[0m \u001b[32m━━━━━━━━━━━━━━━━━━━━\u001b[0m\u001b[37m\u001b[0m \u001b[1m6s\u001b[0m 3ms/step\n",
      "Optimized Hybrid Model Performance:\n",
      "MAE: 0.09084250943313424\n",
      "MSE: 0.05910476031072186\n",
      "RMSE: 0.24311470607662108\n",
      "R² Score: 0.9416592976971558\n"
     ]
    }
   ],
   "source": [
    "import numpy as np\n",
    "import pandas as pd\n",
    "import tensorflow as tf\n",
    "from tensorflow.keras.models import Model\n",
    "from tensorflow.keras.layers import Conv1D, MaxPooling1D, LSTM, Dense, Dropout, Input\n",
    "import xgboost as xgb\n",
    "from sklearn.model_selection import train_test_split\n",
    "from sklearn.preprocessing import StandardScaler\n",
    "from sklearn.metrics import mean_absolute_error, mean_squared_error, r2_score\n",
    "\n",
    "# Load the dataset\n",
    "df = pd.read_csv(\"Warehouse_and_Retail_Sales_Enhanced_Copy.csv\")\n",
    "\n",
    "# Convert DATE column to datetime and sort\n",
    "df['DATE'] = pd.to_datetime(df['DATE'])\n",
    "df = df.sort_values(by='DATE')\n",
    "\n",
    "# Drop unnecessary columns\n",
    "df.drop(['ITEM CODE', 'ITEM DESCRIPTION', 'DATE'], axis=1, inplace=True)\n",
    "\n",
    "# Identify categorical columns and apply One-Hot Encoding\n",
    "categorical_cols = df.select_dtypes(include=['object', 'category']).columns\n",
    "df = pd.get_dummies(df, columns=categorical_cols, drop_first=True)\n",
    "\n",
    "# Normalize numeric features\n",
    "scaler = StandardScaler()\n",
    "df_scaled = pd.DataFrame(scaler.fit_transform(df), columns=df.columns)\n",
    "\n",
    "# Define input features and target\n",
    "X = df_scaled.drop(columns=['RETAIL SALES'])  \n",
    "y = df_scaled['RETAIL SALES']\n",
    "\n",
    "# Reshape for LSTM (samples, timesteps, features)\n",
    "X_lstm = X.values.reshape(X.shape[0], 1, X.shape[1])\n",
    "\n",
    "# Train-test split\n",
    "X_train, X_test, y_train, y_test = train_test_split(X_lstm, y, test_size=0.2, random_state=42)\n",
    "\n",
    "# Build Optimized CNN-LSTM model\n",
    "inputs = Input(shape=(X_train.shape[1], X_train.shape[2]))\n",
    "x = Conv1D(filters=32, kernel_size=1, activation='relu')(inputs)  # Best Filters: 32\n",
    "x = MaxPooling1D(pool_size=1)(x)\n",
    "x = LSTM(50, return_sequences=True)(x)  # Best LSTM Units: 50\n",
    "x = LSTM(50)(x)\n",
    "x = Dense(64, activation='relu')(x)\n",
    "x = Dropout(0.4)(x)  # Best Dropout Rate: 0.4\n",
    "outputs = Dense(1)(x)\n",
    "\n",
    "cnn_lstm_model = Model(inputs, outputs)\n",
    "cnn_lstm_model.compile(optimizer='adam', loss='mse')\n",
    "\n",
    "# Train CNN-LSTM model\n",
    "cnn_lstm_model.fit(X_train, y_train, epochs=20, batch_size=16, validation_data=(X_test, y_test))\n",
    "\n",
    "# Extract Features from CNN-LSTM Model\n",
    "feature_extractor = Model(inputs=cnn_lstm_model.input, outputs=cnn_lstm_model.get_layer(index=-2).output)\n",
    "X_train_features = feature_extractor.predict(X_train)\n",
    "X_test_features = feature_extractor.predict(X_test)\n",
    "\n",
    "# Define XGBoost Model\n",
    "xgb_model = xgb.XGBRegressor(\n",
    "    colsample_bytree=0.9942, gamma=5.6205e-05,\n",
    "    learning_rate=0.02208, max_depth=10, n_estimators=500,\n",
    "    random_state=42\n",
    ")\n",
    "\n",
    "# Train XGBoost on Extracted Features\n",
    "xgb_model.fit(X_train_features, y_train)\n",
    "y_pred = xgb_model.predict(X_test_features)\n",
    "\n",
    "# Evaluate Model\n",
    "mae = mean_absolute_error(y_test, y_pred)\n",
    "mse = mean_squared_error(y_test, y_pred)\n",
    "rmse = np.sqrt(mse)\n",
    "r2 = r2_score(y_test, y_pred)\n",
    "\n",
    "print(f\"Optimized Hybrid Model Performance:\\nMAE: {mae}\\nMSE: {mse}\\nRMSE: {rmse}\\nR² Score: {r2}\")"
   ]
  },
  {
   "cell_type": "code",
   "execution_count": 1,
   "id": "096f18a1-38f5-4e23-9678-0c6b436621bd",
   "metadata": {},
   "outputs": [
    {
     "name": "stdout",
     "output_type": "stream",
     "text": [
      "XGBoost Model Performance:\n",
      "MAE: 0.08439036293249869\n",
      "MSE: 0.05033413287906892\n",
      "RMSE: 0.22435269750789474\n",
      "R² Score: 0.9500238591853849\n"
     ]
    }
   ],
   "source": [
    "import pandas as pd\n",
    "import numpy as np\n",
    "from sklearn.model_selection import train_test_split\n",
    "from sklearn.preprocessing import StandardScaler\n",
    "from sklearn.metrics import mean_absolute_error, mean_squared_error, r2_score\n",
    "import xgboost as xgb\n",
    "\n",
    "# Load dataset\n",
    "df = pd.read_csv(\"Warehouse_and_Retail_Sales_Enhanced_Copy.csv\")\n",
    "\n",
    "# Preprocessing\n",
    "df.drop(['ITEM CODE', 'ITEM DESCRIPTION', 'DATE'], axis=1, inplace=True)\n",
    "df = pd.get_dummies(df, drop_first=True)  # One-hot encode categorical variables\n",
    "\n",
    "# Feature Scaling\n",
    "scaler = StandardScaler()\n",
    "df_scaled = pd.DataFrame(scaler.fit_transform(df), columns=df.columns)\n",
    "\n",
    "# Define features and target\n",
    "X = df_scaled.drop(columns=['RETAIL SALES'])\n",
    "y = df_scaled['RETAIL SALES']\n",
    "\n",
    "# Train-test split\n",
    "X_train, X_test, y_train, y_test = train_test_split(X, y, test_size=0.2, random_state=42)\n",
    "\n",
    "# XGBoost Regressor\n",
    "xgb_model = xgb.XGBRegressor(\n",
    "    colsample_bytree=0.9942, gamma=5.6205e-05,\n",
    "    learning_rate=0.02208, max_depth=10, n_estimators=500,\n",
    "    random_state=42\n",
    ")\n",
    "\n",
    "# Train the model\n",
    "xgb_model.fit(X_train, y_train)\n",
    "\n",
    "# Predict\n",
    "y_pred = xgb_model.predict(X_test)\n",
    "\n",
    "# Evaluation Metrics\n",
    "mae = mean_absolute_error(y_test, y_pred)\n",
    "mse = mean_squared_error(y_test, y_pred)\n",
    "rmse = np.sqrt(mse)\n",
    "r2 = r2_score(y_test, y_pred)\n",
    "\n",
    "print(f\"XGBoost Model Performance:\\nMAE: {mae}\\nMSE: {mse}\\nRMSE: {rmse}\\nR² Score: {r2}\")"
   ]
  },
  {
   "cell_type": "code",
   "execution_count": null,
   "id": "429ab3cd-3f2e-4ba3-9bb1-1b926488ad33",
   "metadata": {},
   "outputs": [],
   "source": []
  }
 ],
 "metadata": {
  "kernelspec": {
   "display_name": "Python 3 (ipykernel)",
   "language": "python",
   "name": "python3"
  },
  "language_info": {
   "codemirror_mode": {
    "name": "ipython",
    "version": 3
   },
   "file_extension": ".py",
   "mimetype": "text/x-python",
   "name": "python",
   "nbconvert_exporter": "python",
   "pygments_lexer": "ipython3",
   "version": "3.12.6"
  }
 },
 "nbformat": 4,
 "nbformat_minor": 5
}
