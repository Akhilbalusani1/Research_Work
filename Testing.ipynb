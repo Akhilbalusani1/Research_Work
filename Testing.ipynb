{
 "cells": [
  {
   "cell_type": "code",
   "execution_count": 2,
   "id": "c89793a2-3e8d-406b-8a32-2fb160ddb385",
   "metadata": {},
   "outputs": [
    {
     "name": "stdout",
     "output_type": "stream",
     "text": [
      "\n",
      "🚀 XGBoost Evaluation:\n",
      "MAE: 0.019265\n",
      "MSE: 0.002498\n",
      "RMSE: 0.049975\n",
      "R² Score: 0.813152\n"
     ]
    }
   ],
   "source": [
    "import pandas as pd\n",
    "import numpy as np\n",
    "import xgboost as xgb\n",
    "from sklearn.metrics import mean_squared_error, mean_absolute_error, r2_score\n",
    "from sklearn.model_selection import train_test_split\n",
    "from sklearn.preprocessing import StandardScaler\n",
    "\n",
    "# Load test dataset\n",
    "df = pd.read_csv(\"Small_Retail_Sales_Test_Dataset.csv\")\n",
    "\n",
    "# Preprocessing\n",
    "df[\"DATE\"] = pd.to_datetime(df[\"DATE\"])\n",
    "df[\"DAY\"] = df[\"DATE\"].dt.day\n",
    "df[\"DAY_OF_WEEK\"] = df[\"DATE\"].dt.dayofweek\n",
    "df[\"IS_WEEKEND\"] = df[\"DAY_OF_WEEK\"].apply(lambda x: 1 if x >= 5 else 0)\n",
    "df.drop(columns=[\"ITEM CODE\", \"ITEM DESCRIPTION\"], inplace=True)\n",
    "\n",
    "# Handle categorical and boolean\n",
    "categorical_cols = [\"SUPPLIER\", \"weather_condition\"]\n",
    "df[categorical_cols] = df[categorical_cols].astype(str)\n",
    "bool_cols = df.select_dtypes(include='bool').columns\n",
    "df[bool_cols] = df[bool_cols].astype(int)\n",
    "\n",
    "# Target and features\n",
    "X = df.drop(columns=[\"RETAIL SALES\"])\n",
    "y = df[\"RETAIL SALES\"]\n",
    "\n",
    "# One-hot encode\n",
    "X = pd.get_dummies(X, columns=categorical_cols, drop_first=True)\n",
    "\n",
    "# Save DATE if still there\n",
    "if 'DATE' in X.columns:\n",
    "    X.drop(columns=['DATE'], inplace=True)\n",
    "\n",
    "# Split and scale (just for demo; in practice you'd use real train data)\n",
    "X_train, X_test, y_train, y_test = train_test_split(X, y, test_size=0.2, random_state=42)\n",
    "\n",
    "scaler = StandardScaler()\n",
    "X_train_scaled = scaler.fit_transform(X_train)\n",
    "X_test_scaled = scaler.transform(X_test)\n",
    "\n",
    "# Train XGBoost with your tuned params\n",
    "xgb_model = xgb.XGBRegressor(\n",
    "    learning_rate=0.1,\n",
    "    max_depth=6,\n",
    "    n_estimators=200,\n",
    "    subsample=0.8,\n",
    "    colsample_bytree=0.8,\n",
    "    random_state=42\n",
    ")\n",
    "\n",
    "xgb_model.fit(X_train_scaled, y_train)\n",
    "\n",
    "# Predict and evaluate\n",
    "y_pred = xgb_model.predict(X_test_scaled)\n",
    "\n",
    "mae = mean_absolute_error(y_test, y_pred)\n",
    "mse = mean_squared_error(y_test, y_pred)\n",
    "rmse = np.sqrt(mse)\n",
    "r2 = r2_score(y_test, y_pred)\n",
    "\n",
    "print(f\"\\n🚀 XGBoost Evaluation:\")\n",
    "print(f\"MAE: {mae:.6f}\")\n",
    "print(f\"MSE: {mse:.6f}\")\n",
    "print(f\"RMSE: {rmse:.6f}\")\n",
    "print(f\"R² Score: {r2:.6f}\")"
   ]
  },
  {
   "cell_type": "code",
   "execution_count": null,
   "id": "61de4097-7d22-42bc-8535-d6b355a36b93",
   "metadata": {},
   "outputs": [],
   "source": []
  }
 ],
 "metadata": {
  "kernelspec": {
   "display_name": "Python 3 (ipykernel)",
   "language": "python",
   "name": "python3"
  },
  "language_info": {
   "codemirror_mode": {
    "name": "ipython",
    "version": 3
   },
   "file_extension": ".py",
   "mimetype": "text/x-python",
   "name": "python",
   "nbconvert_exporter": "python",
   "pygments_lexer": "ipython3",
   "version": "3.12.6"
  }
 },
 "nbformat": 4,
 "nbformat_minor": 5
}
